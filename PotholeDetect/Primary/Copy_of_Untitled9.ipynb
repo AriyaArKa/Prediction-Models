{
  "cells": [
    {
      "cell_type": "markdown",
      "metadata": {
        "id": "view-in-github",
        "colab_type": "text"
      },
      "source": [
        "<a href=\"https://colab.research.google.com/github/AriyaArKa/Prediction-Models/blob/main/PotholeDetect/Primary/Copy_of_Untitled9.ipynb\" target=\"_parent\"><img src=\"https://colab.research.google.com/assets/colab-badge.svg\" alt=\"Open In Colab\"/></a>"
      ]
    },
    {
      "cell_type": "markdown",
      "metadata": {
        "id": "H9IFv70HvFhQ"
      },
      "source": [
        "#**Importing the Required Libraries**"
      ]
    },
    {
      "cell_type": "code",
      "execution_count": null,
      "metadata": {
        "id": "g760Aq6NvHHd"
      },
      "outputs": [],
      "source": [
        "import os\n"
      ]
    },
    {
      "cell_type": "code",
      "execution_count": null,
      "metadata": {
        "id": "WDWssEDXvI_P"
      },
      "outputs": [],
      "source": [
        "import glob"
      ]
    },
    {
      "cell_type": "code",
      "execution_count": null,
      "metadata": {
        "id": "kv9aCk9-vJ-E"
      },
      "outputs": [],
      "source": [
        "from IPython.display import Image, display"
      ]
    },
    {
      "cell_type": "code",
      "execution_count": null,
      "metadata": {
        "id": "6dG6ooYgvK41"
      },
      "outputs": [],
      "source": [
        "from IPython import display"
      ]
    },
    {
      "cell_type": "code",
      "execution_count": null,
      "metadata": {
        "id": "uvDSgLgGvLxZ"
      },
      "outputs": [],
      "source": [
        "display.clear_output()"
      ]
    },
    {
      "cell_type": "markdown",
      "metadata": {
        "id": "LsSU8S1MvNTC"
      },
      "source": [
        "# **Check whether access to the GPU or not**"
      ]
    },
    {
      "cell_type": "code",
      "execution_count": null,
      "metadata": {
        "colab": {
          "base_uri": "https://localhost:8080/"
        },
        "id": "zjK3gvjnvOVw",
        "outputId": "6d6d7472-4910-4bbd-dfb8-8f5791f83f61"
      },
      "outputs": [
        {
          "name": "stdout",
          "output_type": "stream",
          "text": [
            "Sat Aug 17 19:17:12 2024       \n",
            "+---------------------------------------------------------------------------------------+\n",
            "| NVIDIA-SMI 535.104.05             Driver Version: 535.104.05   CUDA Version: 12.2     |\n",
            "|-----------------------------------------+----------------------+----------------------+\n",
            "| GPU  Name                 Persistence-M | Bus-Id        Disp.A | Volatile Uncorr. ECC |\n",
            "| Fan  Temp   Perf          Pwr:Usage/Cap |         Memory-Usage | GPU-Util  Compute M. |\n",
            "|                                         |                      |               MIG M. |\n",
            "|=========================================+======================+======================|\n",
            "|   0  Tesla T4                       Off | 00000000:00:04.0 Off |                    0 |\n",
            "| N/A   43C    P8              10W /  70W |      3MiB / 15360MiB |      0%      Default |\n",
            "|                                         |                      |                  N/A |\n",
            "+-----------------------------------------+----------------------+----------------------+\n",
            "                                                                                         \n",
            "+---------------------------------------------------------------------------------------+\n",
            "| Processes:                                                                            |\n",
            "|  GPU   GI   CI        PID   Type   Process name                            GPU Memory |\n",
            "|        ID   ID                                                             Usage      |\n",
            "|=======================================================================================|\n",
            "|  No running processes found                                                           |\n",
            "+---------------------------------------------------------------------------------------+\n"
          ]
        }
      ],
      "source": [
        "!nvidia-smi"
      ]
    },
    {
      "cell_type": "code",
      "execution_count": null,
      "metadata": {
        "id": "nQiIl3UnvRF0"
      },
      "outputs": [],
      "source": [
        "HOME = os.getcwd()"
      ]
    },
    {
      "cell_type": "code",
      "execution_count": null,
      "metadata": {
        "colab": {
          "base_uri": "https://localhost:8080/"
        },
        "id": "fWYQQkQKvSHF",
        "outputId": "da79fe3b-f710-460d-e4f3-fc237dbe9741"
      },
      "outputs": [
        {
          "output_type": "stream",
          "name": "stdout",
          "text": [
            "/content\n"
          ]
        }
      ],
      "source": [
        "print(HOME)"
      ]
    },
    {
      "cell_type": "markdown",
      "metadata": {
        "id": "Usvm4zwdvTky"
      },
      "source": [
        "#**Installing Ultralytics using Pip Install**"
      ]
    },
    {
      "cell_type": "code",
      "execution_count": null,
      "metadata": {
        "colab": {
          "base_uri": "https://localhost:8080/"
        },
        "id": "-kaOWwg_vUWr",
        "outputId": "784f4af6-5f7d-4476-e823-d63501477ffe"
      },
      "outputs": [
        {
          "output_type": "stream",
          "name": "stdout",
          "text": [
            "Requirement already satisfied: ultralytics==8.0.0 in /usr/local/lib/python3.10/dist-packages (8.0.0)\n",
            "Requirement already satisfied: hydra-core>=1.2.0 in /usr/local/lib/python3.10/dist-packages (from ultralytics==8.0.0) (1.3.2)\n",
            "Requirement already satisfied: matplotlib>=3.2.2 in /usr/local/lib/python3.10/dist-packages (from ultralytics==8.0.0) (3.7.1)\n",
            "Requirement already satisfied: numpy>=1.18.5 in /usr/local/lib/python3.10/dist-packages (from ultralytics==8.0.0) (1.26.4)\n",
            "Requirement already satisfied: opencv-python>=4.1.1 in /usr/local/lib/python3.10/dist-packages (from ultralytics==8.0.0) (4.10.0.84)\n",
            "Requirement already satisfied: Pillow>=7.1.2 in /usr/local/lib/python3.10/dist-packages (from ultralytics==8.0.0) (9.4.0)\n",
            "Requirement already satisfied: PyYAML>=5.3.1 in /usr/local/lib/python3.10/dist-packages (from ultralytics==8.0.0) (6.0.2)\n",
            "Requirement already satisfied: requests>=2.23.0 in /usr/local/lib/python3.10/dist-packages (from ultralytics==8.0.0) (2.32.3)\n",
            "Requirement already satisfied: scipy>=1.4.1 in /usr/local/lib/python3.10/dist-packages (from ultralytics==8.0.0) (1.13.1)\n",
            "Requirement already satisfied: torch>=1.7.0 in /usr/local/lib/python3.10/dist-packages (from ultralytics==8.0.0) (2.3.1+cu121)\n",
            "Requirement already satisfied: torchvision>=0.8.1 in /usr/local/lib/python3.10/dist-packages (from ultralytics==8.0.0) (0.18.1+cu121)\n",
            "Requirement already satisfied: tqdm>=4.64.0 in /usr/local/lib/python3.10/dist-packages (from ultralytics==8.0.0) (4.66.5)\n",
            "Requirement already satisfied: tensorboard>=2.4.1 in /usr/local/lib/python3.10/dist-packages (from ultralytics==8.0.0) (2.17.0)\n",
            "Requirement already satisfied: pandas>=1.1.4 in /usr/local/lib/python3.10/dist-packages (from ultralytics==8.0.0) (2.1.4)\n",
            "Requirement already satisfied: seaborn>=0.11.0 in /usr/local/lib/python3.10/dist-packages (from ultralytics==8.0.0) (0.13.1)\n",
            "Requirement already satisfied: ipython in /usr/local/lib/python3.10/dist-packages (from ultralytics==8.0.0) (7.34.0)\n",
            "Requirement already satisfied: psutil in /usr/local/lib/python3.10/dist-packages (from ultralytics==8.0.0) (5.9.5)\n",
            "Requirement already satisfied: thop>=0.1.1 in /usr/local/lib/python3.10/dist-packages (from ultralytics==8.0.0) (0.1.1.post2209072238)\n",
            "Requirement already satisfied: GitPython>=3.1.24 in /usr/local/lib/python3.10/dist-packages (from ultralytics==8.0.0) (3.1.43)\n",
            "Requirement already satisfied: gitdb<5,>=4.0.1 in /usr/local/lib/python3.10/dist-packages (from GitPython>=3.1.24->ultralytics==8.0.0) (4.0.11)\n",
            "Requirement already satisfied: omegaconf<2.4,>=2.2 in /usr/local/lib/python3.10/dist-packages (from hydra-core>=1.2.0->ultralytics==8.0.0) (2.3.0)\n",
            "Requirement already satisfied: antlr4-python3-runtime==4.9.* in /usr/local/lib/python3.10/dist-packages (from hydra-core>=1.2.0->ultralytics==8.0.0) (4.9.3)\n",
            "Requirement already satisfied: packaging in /usr/local/lib/python3.10/dist-packages (from hydra-core>=1.2.0->ultralytics==8.0.0) (24.1)\n",
            "Requirement already satisfied: contourpy>=1.0.1 in /usr/local/lib/python3.10/dist-packages (from matplotlib>=3.2.2->ultralytics==8.0.0) (1.2.1)\n",
            "Requirement already satisfied: cycler>=0.10 in /usr/local/lib/python3.10/dist-packages (from matplotlib>=3.2.2->ultralytics==8.0.0) (0.12.1)\n",
            "Requirement already satisfied: fonttools>=4.22.0 in /usr/local/lib/python3.10/dist-packages (from matplotlib>=3.2.2->ultralytics==8.0.0) (4.53.1)\n",
            "Requirement already satisfied: kiwisolver>=1.0.1 in /usr/local/lib/python3.10/dist-packages (from matplotlib>=3.2.2->ultralytics==8.0.0) (1.4.5)\n",
            "Requirement already satisfied: pyparsing>=2.3.1 in /usr/local/lib/python3.10/dist-packages (from matplotlib>=3.2.2->ultralytics==8.0.0) (3.1.2)\n",
            "Requirement already satisfied: python-dateutil>=2.7 in /usr/local/lib/python3.10/dist-packages (from matplotlib>=3.2.2->ultralytics==8.0.0) (2.8.2)\n",
            "Requirement already satisfied: pytz>=2020.1 in /usr/local/lib/python3.10/dist-packages (from pandas>=1.1.4->ultralytics==8.0.0) (2024.1)\n",
            "Requirement already satisfied: tzdata>=2022.1 in /usr/local/lib/python3.10/dist-packages (from pandas>=1.1.4->ultralytics==8.0.0) (2024.1)\n",
            "Requirement already satisfied: charset-normalizer<4,>=2 in /usr/local/lib/python3.10/dist-packages (from requests>=2.23.0->ultralytics==8.0.0) (3.3.2)\n",
            "Requirement already satisfied: idna<4,>=2.5 in /usr/local/lib/python3.10/dist-packages (from requests>=2.23.0->ultralytics==8.0.0) (3.7)\n",
            "Requirement already satisfied: urllib3<3,>=1.21.1 in /usr/local/lib/python3.10/dist-packages (from requests>=2.23.0->ultralytics==8.0.0) (2.0.7)\n",
            "Requirement already satisfied: certifi>=2017.4.17 in /usr/local/lib/python3.10/dist-packages (from requests>=2.23.0->ultralytics==8.0.0) (2024.7.4)\n",
            "Requirement already satisfied: absl-py>=0.4 in /usr/local/lib/python3.10/dist-packages (from tensorboard>=2.4.1->ultralytics==8.0.0) (1.4.0)\n",
            "Requirement already satisfied: grpcio>=1.48.2 in /usr/local/lib/python3.10/dist-packages (from tensorboard>=2.4.1->ultralytics==8.0.0) (1.64.1)\n",
            "Requirement already satisfied: markdown>=2.6.8 in /usr/local/lib/python3.10/dist-packages (from tensorboard>=2.4.1->ultralytics==8.0.0) (3.6)\n",
            "Requirement already satisfied: protobuf!=4.24.0,<5.0.0,>=3.19.6 in /usr/local/lib/python3.10/dist-packages (from tensorboard>=2.4.1->ultralytics==8.0.0) (3.20.3)\n",
            "Requirement already satisfied: setuptools>=41.0.0 in /usr/local/lib/python3.10/dist-packages (from tensorboard>=2.4.1->ultralytics==8.0.0) (71.0.4)\n",
            "Requirement already satisfied: six>1.9 in /usr/local/lib/python3.10/dist-packages (from tensorboard>=2.4.1->ultralytics==8.0.0) (1.16.0)\n",
            "Requirement already satisfied: tensorboard-data-server<0.8.0,>=0.7.0 in /usr/local/lib/python3.10/dist-packages (from tensorboard>=2.4.1->ultralytics==8.0.0) (0.7.2)\n",
            "Requirement already satisfied: werkzeug>=1.0.1 in /usr/local/lib/python3.10/dist-packages (from tensorboard>=2.4.1->ultralytics==8.0.0) (3.0.3)\n",
            "Requirement already satisfied: filelock in /usr/local/lib/python3.10/dist-packages (from torch>=1.7.0->ultralytics==8.0.0) (3.15.4)\n",
            "Requirement already satisfied: typing-extensions>=4.8.0 in /usr/local/lib/python3.10/dist-packages (from torch>=1.7.0->ultralytics==8.0.0) (4.12.2)\n",
            "Requirement already satisfied: sympy in /usr/local/lib/python3.10/dist-packages (from torch>=1.7.0->ultralytics==8.0.0) (1.13.1)\n",
            "Requirement already satisfied: networkx in /usr/local/lib/python3.10/dist-packages (from torch>=1.7.0->ultralytics==8.0.0) (3.3)\n",
            "Requirement already satisfied: jinja2 in /usr/local/lib/python3.10/dist-packages (from torch>=1.7.0->ultralytics==8.0.0) (3.1.4)\n",
            "Requirement already satisfied: fsspec in /usr/local/lib/python3.10/dist-packages (from torch>=1.7.0->ultralytics==8.0.0) (2024.6.1)\n",
            "Requirement already satisfied: nvidia-cuda-nvrtc-cu12==12.1.105 in /usr/local/lib/python3.10/dist-packages (from torch>=1.7.0->ultralytics==8.0.0) (12.1.105)\n",
            "Requirement already satisfied: nvidia-cuda-runtime-cu12==12.1.105 in /usr/local/lib/python3.10/dist-packages (from torch>=1.7.0->ultralytics==8.0.0) (12.1.105)\n",
            "Requirement already satisfied: nvidia-cuda-cupti-cu12==12.1.105 in /usr/local/lib/python3.10/dist-packages (from torch>=1.7.0->ultralytics==8.0.0) (12.1.105)\n",
            "Requirement already satisfied: nvidia-cudnn-cu12==8.9.2.26 in /usr/local/lib/python3.10/dist-packages (from torch>=1.7.0->ultralytics==8.0.0) (8.9.2.26)\n",
            "Requirement already satisfied: nvidia-cublas-cu12==12.1.3.1 in /usr/local/lib/python3.10/dist-packages (from torch>=1.7.0->ultralytics==8.0.0) (12.1.3.1)\n",
            "Requirement already satisfied: nvidia-cufft-cu12==11.0.2.54 in /usr/local/lib/python3.10/dist-packages (from torch>=1.7.0->ultralytics==8.0.0) (11.0.2.54)\n",
            "Requirement already satisfied: nvidia-curand-cu12==10.3.2.106 in /usr/local/lib/python3.10/dist-packages (from torch>=1.7.0->ultralytics==8.0.0) (10.3.2.106)\n",
            "Requirement already satisfied: nvidia-cusolver-cu12==11.4.5.107 in /usr/local/lib/python3.10/dist-packages (from torch>=1.7.0->ultralytics==8.0.0) (11.4.5.107)\n",
            "Requirement already satisfied: nvidia-cusparse-cu12==12.1.0.106 in /usr/local/lib/python3.10/dist-packages (from torch>=1.7.0->ultralytics==8.0.0) (12.1.0.106)\n",
            "Requirement already satisfied: nvidia-nccl-cu12==2.20.5 in /usr/local/lib/python3.10/dist-packages (from torch>=1.7.0->ultralytics==8.0.0) (2.20.5)\n",
            "Requirement already satisfied: nvidia-nvtx-cu12==12.1.105 in /usr/local/lib/python3.10/dist-packages (from torch>=1.7.0->ultralytics==8.0.0) (12.1.105)\n",
            "Requirement already satisfied: triton==2.3.1 in /usr/local/lib/python3.10/dist-packages (from torch>=1.7.0->ultralytics==8.0.0) (2.3.1)\n",
            "Requirement already satisfied: nvidia-nvjitlink-cu12 in /usr/local/lib/python3.10/dist-packages (from nvidia-cusolver-cu12==11.4.5.107->torch>=1.7.0->ultralytics==8.0.0) (12.6.20)\n",
            "Requirement already satisfied: jedi>=0.16 in /usr/local/lib/python3.10/dist-packages (from ipython->ultralytics==8.0.0) (0.19.1)\n",
            "Requirement already satisfied: decorator in /usr/local/lib/python3.10/dist-packages (from ipython->ultralytics==8.0.0) (4.4.2)\n",
            "Requirement already satisfied: pickleshare in /usr/local/lib/python3.10/dist-packages (from ipython->ultralytics==8.0.0) (0.7.5)\n",
            "Requirement already satisfied: traitlets>=4.2 in /usr/local/lib/python3.10/dist-packages (from ipython->ultralytics==8.0.0) (5.7.1)\n",
            "Requirement already satisfied: prompt-toolkit!=3.0.0,!=3.0.1,<3.1.0,>=2.0.0 in /usr/local/lib/python3.10/dist-packages (from ipython->ultralytics==8.0.0) (3.0.47)\n",
            "Requirement already satisfied: pygments in /usr/local/lib/python3.10/dist-packages (from ipython->ultralytics==8.0.0) (2.16.1)\n",
            "Requirement already satisfied: backcall in /usr/local/lib/python3.10/dist-packages (from ipython->ultralytics==8.0.0) (0.2.0)\n",
            "Requirement already satisfied: matplotlib-inline in /usr/local/lib/python3.10/dist-packages (from ipython->ultralytics==8.0.0) (0.1.7)\n",
            "Requirement already satisfied: pexpect>4.3 in /usr/local/lib/python3.10/dist-packages (from ipython->ultralytics==8.0.0) (4.9.0)\n",
            "Requirement already satisfied: smmap<6,>=3.0.1 in /usr/local/lib/python3.10/dist-packages (from gitdb<5,>=4.0.1->GitPython>=3.1.24->ultralytics==8.0.0) (5.0.1)\n",
            "Requirement already satisfied: parso<0.9.0,>=0.8.3 in /usr/local/lib/python3.10/dist-packages (from jedi>=0.16->ipython->ultralytics==8.0.0) (0.8.4)\n",
            "Requirement already satisfied: ptyprocess>=0.5 in /usr/local/lib/python3.10/dist-packages (from pexpect>4.3->ipython->ultralytics==8.0.0) (0.7.0)\n",
            "Requirement already satisfied: wcwidth in /usr/local/lib/python3.10/dist-packages (from prompt-toolkit!=3.0.0,!=3.0.1,<3.1.0,>=2.0.0->ipython->ultralytics==8.0.0) (0.2.13)\n",
            "Requirement already satisfied: MarkupSafe>=2.1.1 in /usr/local/lib/python3.10/dist-packages (from werkzeug>=1.0.1->tensorboard>=2.4.1->ultralytics==8.0.0) (2.1.5)\n",
            "Requirement already satisfied: mpmath<1.4,>=1.1.0 in /usr/local/lib/python3.10/dist-packages (from sympy->torch>=1.7.0->ultralytics==8.0.0) (1.3.0)\n"
          ]
        }
      ],
      "source": [
        "!pip install ultralytics==8.0.0"
      ]
    },
    {
      "cell_type": "markdown",
      "metadata": {
        "id": "uoYspD3Fv_eB"
      },
      "source": [
        "##Checking whether YOLOv8 is Installed and its working Fine"
      ]
    },
    {
      "cell_type": "code",
      "execution_count": null,
      "metadata": {
        "id": "2OBlXYx2vVwK"
      },
      "outputs": [],
      "source": [
        "import ultralytics"
      ]
    },
    {
      "cell_type": "code",
      "execution_count": null,
      "metadata": {
        "colab": {
          "base_uri": "https://localhost:8080/"
        },
        "id": "Dy67Mk5XvWtc",
        "outputId": "f8c932b0-1acb-4e1d-e738-30e7cc904b25"
      },
      "outputs": [
        {
          "output_type": "stream",
          "name": "stderr",
          "text": [
            "Ultralytics YOLOv8.0.0 🚀 Python-3.10.12 torch-2.3.1+cu121 CPU\n",
            "Setup complete ✅ (2 CPUs, 12.7 GB RAM, 33.6/107.7 GB disk)\n"
          ]
        }
      ],
      "source": [
        "ultralytics.checks()"
      ]
    },
    {
      "cell_type": "markdown",
      "metadata": {
        "id": "X7J3X1zuvYGu"
      },
      "source": [
        "#**Importing the Potholes Images Dataset from Roboflow**"
      ]
    },
    {
      "cell_type": "code",
      "execution_count": null,
      "metadata": {
        "colab": {
          "base_uri": "https://localhost:8080/"
        },
        "id": "G5Dm5kttwDQE",
        "outputId": "a30105bc-8e01-4d05-f371-a173d0399362"
      },
      "outputs": [
        {
          "output_type": "stream",
          "name": "stdout",
          "text": [
            "mkdir: cannot create directory ‘{HOME}/datasets’: No such file or directory\n"
          ]
        }
      ],
      "source": [
        "!mkdir {HOME}/datasets\n"
      ]
    },
    {
      "cell_type": "code",
      "execution_count": null,
      "metadata": {
        "colab": {
          "base_uri": "https://localhost:8080/"
        },
        "id": "L1IjjV14wE0R",
        "outputId": "fb841602-510e-4053-d8b0-2daefb5b827f"
      },
      "outputs": [
        {
          "output_type": "stream",
          "name": "stdout",
          "text": [
            "/content\n"
          ]
        }
      ],
      "source": [
        "!pwd"
      ]
    },
    {
      "cell_type": "code",
      "execution_count": null,
      "metadata": {
        "colab": {
          "base_uri": "https://localhost:8080/"
        },
        "id": "giU8cducwF9W",
        "outputId": "35f14f51-736d-4844-a422-a5141f63a7a4"
      },
      "outputs": [
        {
          "output_type": "stream",
          "name": "stdout",
          "text": [
            "[Errno 2] No such file or directory: '{HOME}/datasets'\n",
            "/content\n"
          ]
        }
      ],
      "source": [
        "%cd {HOME}/datasets\n"
      ]
    },
    {
      "cell_type": "code",
      "execution_count": null,
      "metadata": {
        "colab": {
          "base_uri": "https://localhost:8080/"
        },
        "id": "lKcCNFhwwHT2",
        "outputId": "7616f757-2a33-4e40-95bd-1e6bd587050f"
      },
      "outputs": [
        {
          "output_type": "stream",
          "name": "stdout",
          "text": [
            "/content\n"
          ]
        }
      ],
      "source": [
        "!pwd"
      ]
    },
    {
      "cell_type": "code",
      "execution_count": null,
      "metadata": {
        "colab": {
          "base_uri": "https://localhost:8080/"
        },
        "id": "FZliclkxvYYM",
        "outputId": "f002110d-9394-40dd-eacd-57b623a468fb"
      },
      "outputs": [
        {
          "output_type": "stream",
          "name": "stdout",
          "text": [
            "Requirement already satisfied: roboflow in /usr/local/lib/python3.10/dist-packages (1.1.40)\n",
            "Requirement already satisfied: certifi in /usr/local/lib/python3.10/dist-packages (from roboflow) (2024.7.4)\n",
            "Requirement already satisfied: idna==3.7 in /usr/local/lib/python3.10/dist-packages (from roboflow) (3.7)\n",
            "Requirement already satisfied: cycler in /usr/local/lib/python3.10/dist-packages (from roboflow) (0.12.1)\n",
            "Requirement already satisfied: kiwisolver>=1.3.1 in /usr/local/lib/python3.10/dist-packages (from roboflow) (1.4.5)\n",
            "Requirement already satisfied: matplotlib in /usr/local/lib/python3.10/dist-packages (from roboflow) (3.7.1)\n",
            "Requirement already satisfied: numpy>=1.18.5 in /usr/local/lib/python3.10/dist-packages (from roboflow) (1.26.4)\n",
            "Requirement already satisfied: opencv-python-headless==4.10.0.84 in /usr/local/lib/python3.10/dist-packages (from roboflow) (4.10.0.84)\n",
            "Requirement already satisfied: Pillow>=7.1.2 in /usr/local/lib/python3.10/dist-packages (from roboflow) (9.4.0)\n",
            "Requirement already satisfied: python-dateutil in /usr/local/lib/python3.10/dist-packages (from roboflow) (2.8.2)\n",
            "Requirement already satisfied: python-dotenv in /usr/local/lib/python3.10/dist-packages (from roboflow) (1.0.1)\n",
            "Requirement already satisfied: requests in /usr/local/lib/python3.10/dist-packages (from roboflow) (2.32.3)\n",
            "Requirement already satisfied: six in /usr/local/lib/python3.10/dist-packages (from roboflow) (1.16.0)\n",
            "Requirement already satisfied: urllib3>=1.26.6 in /usr/local/lib/python3.10/dist-packages (from roboflow) (2.0.7)\n",
            "Requirement already satisfied: tqdm>=4.41.0 in /usr/local/lib/python3.10/dist-packages (from roboflow) (4.66.5)\n",
            "Requirement already satisfied: PyYAML>=5.3.1 in /usr/local/lib/python3.10/dist-packages (from roboflow) (6.0.2)\n",
            "Requirement already satisfied: requests-toolbelt in /usr/local/lib/python3.10/dist-packages (from roboflow) (1.0.0)\n",
            "Requirement already satisfied: filetype in /usr/local/lib/python3.10/dist-packages (from roboflow) (1.2.0)\n",
            "Requirement already satisfied: contourpy>=1.0.1 in /usr/local/lib/python3.10/dist-packages (from matplotlib->roboflow) (1.2.1)\n",
            "Requirement already satisfied: fonttools>=4.22.0 in /usr/local/lib/python3.10/dist-packages (from matplotlib->roboflow) (4.53.1)\n",
            "Requirement already satisfied: packaging>=20.0 in /usr/local/lib/python3.10/dist-packages (from matplotlib->roboflow) (24.1)\n",
            "Requirement already satisfied: pyparsing>=2.3.1 in /usr/local/lib/python3.10/dist-packages (from matplotlib->roboflow) (3.1.2)\n",
            "Requirement already satisfied: charset-normalizer<4,>=2 in /usr/local/lib/python3.10/dist-packages (from requests->roboflow) (3.3.2)\n",
            "loading Roboflow workspace...\n",
            "loading Roboflow project...\n"
          ]
        },
        {
          "output_type": "stream",
          "name": "stderr",
          "text": [
            "Downloading Dataset Version Zip in Yolov8Pothole-1 to yolov5pytorch:: 100%|██████████| 32379/32379 [00:00<00:00, 39520.47it/s]"
          ]
        },
        {
          "output_type": "stream",
          "name": "stdout",
          "text": [
            "\n"
          ]
        },
        {
          "output_type": "stream",
          "name": "stderr",
          "text": [
            "\n",
            "Extracting Dataset Version Zip to Yolov8Pothole-1 in yolov5pytorch:: 100%|██████████| 788/788 [00:00<00:00, 4197.17it/s]\n"
          ]
        }
      ],
      "source": [
        "!pip install roboflow\n",
        "\n",
        "from roboflow import Roboflow\n",
        "rf = Roboflow(api_key=\"dA6s0u61fH2fVpVAWcbB\")\n",
        "project = rf.workspace(\"arka-fwppt\").project(\"yolov8pothole\")\n",
        "version = project.version(1)\n",
        "dataset = version.download(\"yolov5\")\n"
      ]
    },
    {
      "cell_type": "markdown",
      "metadata": {
        "id": "KDuuvIWovs1B"
      },
      "source": [
        "#**Train the YOLOv8 Model on the Custom Dataset**"
      ]
    },
    {
      "cell_type": "code",
      "execution_count": null,
      "metadata": {
        "colab": {
          "base_uri": "https://localhost:8080/"
        },
        "id": "0SXkTiLLvtxi",
        "outputId": "8dde18e4-fab9-447f-b7d0-85c9784c775f"
      },
      "outputs": [
        {
          "output_type": "stream",
          "name": "stdout",
          "text": [
            "[Errno 2] No such file or directory: '{HOME}'\n",
            "/content/Yolov8Pothole-1\n"
          ]
        }
      ],
      "source": [
        "%cd {HOME}"
      ]
    },
    {
      "cell_type": "code",
      "execution_count": null,
      "metadata": {
        "colab": {
          "base_uri": "https://localhost:8080/"
        },
        "id": "BexM_ez0vvUh",
        "outputId": "fbad4fc5-b0d6-4e39-c765-b1bb018bbce8"
      },
      "outputs": [
        {
          "output_type": "stream",
          "name": "stdout",
          "text": [
            "/content/Yolov8Pothole-1/Yolov8Pothole-1\n"
          ]
        }
      ],
      "source": [
        "%cd {dataset.location}"
      ]
    },
    {
      "cell_type": "code",
      "execution_count": null,
      "metadata": {
        "colab": {
          "base_uri": "https://localhost:8080/"
        },
        "id": "TwhWpj1UvxCj",
        "outputId": "1562d5f3-4c5c-49c2-828d-934bb46b297b"
      },
      "outputs": [
        {
          "output_type": "stream",
          "name": "stdout",
          "text": [
            "[Errno 2] No such file or directory: '{HOME}'\n",
            "/content/Yolov8Pothole-1/Yolov8Pothole-1\n",
            "Downloading https://github.com/ultralytics/assets/releases/download/v0.0.0/yolov8m.pt to yolov8m.pt...\n",
            "100% 49.7M/49.7M [00:00<00:00, 256MB/s]\n",
            "\n",
            "\u001b[34m\u001b[1myolo/engine/trainer: \u001b[0mtask=detect, mode=train, model=yolov8m.pt, data=/content/Yolov8Pothole-1/data.yaml, epochs=70, patience=50, batch=16, imgsz=640, save=True, cache=False, device=None, workers=8, project=None, name=None, exist_ok=False, pretrained=False, optimizer=SGD, verbose=False, seed=0, deterministic=True, single_cls=False, image_weights=False, rect=False, cos_lr=False, close_mosaic=10, resume=False, overlap_mask=True, mask_ratio=4, dropout=0.0, val=True, save_json=False, save_hybrid=False, conf=None, iou=0.7, max_det=300, half=False, dnn=False, plots=True, source=None, show=False, save_txt=False, save_conf=False, save_crop=False, hide_labels=False, hide_conf=False, vid_stride=1, line_thickness=3, visualize=False, augment=False, agnostic_nms=False, retina_masks=False, format=torchscript, keras=False, optimize=False, int8=False, dynamic=False, simplify=False, opset=17, workspace=4, nms=False, lr0=0.01, lrf=0.01, momentum=0.937, weight_decay=0.0005, warmup_epochs=3.0, warmup_momentum=0.8, warmup_bias_lr=0.1, box=7.5, cls=0.5, dfl=1.5, fl_gamma=0.0, label_smoothing=0.0, nbs=64, hsv_h=0.015, hsv_s=0.7, hsv_v=0.4, degrees=0.0, translate=0.1, scale=0.5, shear=0.0, perspective=0.0, flipud=0.0, fliplr=0.5, mosaic=1.0, mixup=0.0, copy_paste=0.0, hydra={'output_subdir': None, 'run': {'dir': '.'}}, v5loader=False, save_dir=runs/detect/train\n",
            "Ultralytics YOLOv8.0.0 🚀 Python-3.10.12 torch-2.3.1+cu121 CPU\n",
            "Error executing job with overrides: ['task=detect', 'mode=train', 'model=yolov8m.pt', 'data=/content/Yolov8Pothole-1/data.yaml', 'epochs=70', 'imgsz=640']\n",
            "Traceback (most recent call last):\n",
            "  File \"/usr/local/lib/python3.10/dist-packages/ultralytics/yolo/cli.py\", line 52, in cli\n",
            "    func(cfg)\n",
            "  File \"/usr/local/lib/python3.10/dist-packages/hydra/main.py\", line 83, in decorated_main\n",
            "    return task_function(cfg_passthrough)\n",
            "  File \"/usr/local/lib/python3.10/dist-packages/ultralytics/yolo/v8/detect/train.py\", line 206, in train\n",
            "    model.train(**cfg)\n",
            "  File \"/usr/local/lib/python3.10/dist-packages/ultralytics/yolo/engine/model.py\", line 189, in train\n",
            "    self.trainer = self.TrainerClass(overrides=overrides)\n",
            "  File \"/usr/local/lib/python3.10/dist-packages/ultralytics/yolo/engine/trainer.py\", line 126, in __init__\n",
            "    self.data = check_dataset_yaml(self.data)\n",
            "  File \"/usr/local/lib/python3.10/dist-packages/ultralytics/yolo/data/utils.py\", line 206, in check_dataset_yaml\n",
            "    data = yaml_load(data, append_filename=True)  # dictionary\n",
            "  File \"/usr/local/lib/python3.10/dist-packages/ultralytics/yolo/utils/__init__.py\", line 344, in yaml_load\n",
            "    return {**yaml.safe_load(f), 'yaml_file': str(file)} if append_filename else yaml.safe_load(f)\n",
            "  File \"/usr/local/lib/python3.10/dist-packages/yaml/__init__.py\", line 125, in safe_load\n",
            "    return load(stream, SafeLoader)\n",
            "  File \"/usr/local/lib/python3.10/dist-packages/yaml/__init__.py\", line 81, in load\n",
            "    return loader.get_single_data()\n",
            "  File \"/usr/local/lib/python3.10/dist-packages/yaml/constructor.py\", line 49, in get_single_data\n",
            "    node = self.get_single_node()\n",
            "  File \"/usr/local/lib/python3.10/dist-packages/yaml/composer.py\", line 36, in get_single_node\n",
            "    document = self.compose_document()\n",
            "  File \"/usr/local/lib/python3.10/dist-packages/yaml/composer.py\", line 55, in compose_document\n",
            "    node = self.compose_node(None, None)\n",
            "  File \"/usr/local/lib/python3.10/dist-packages/yaml/composer.py\", line 84, in compose_node\n",
            "    node = self.compose_mapping_node(anchor)\n",
            "  File \"/usr/local/lib/python3.10/dist-packages/yaml/composer.py\", line 127, in compose_mapping_node\n",
            "    while not self.check_event(MappingEndEvent):\n",
            "  File \"/usr/local/lib/python3.10/dist-packages/yaml/parser.py\", line 98, in check_event\n",
            "    self.current_event = self.state()\n",
            "  File \"/usr/local/lib/python3.10/dist-packages/yaml/parser.py\", line 428, in parse_block_mapping_key\n",
            "    if self.check_token(KeyToken):\n",
            "  File \"/usr/local/lib/python3.10/dist-packages/yaml/scanner.py\", line 115, in check_token\n",
            "    while self.need_more_tokens():\n",
            "  File \"/usr/local/lib/python3.10/dist-packages/yaml/scanner.py\", line 152, in need_more_tokens\n",
            "    self.stale_possible_simple_keys()\n",
            "  File \"/usr/local/lib/python3.10/dist-packages/yaml/scanner.py\", line 291, in stale_possible_simple_keys\n",
            "    raise ScannerError(\"while scanning a simple key\", key.mark,\n",
            "yaml.scanner.ScannerError: while scanning a simple key\n",
            "  in \"/content/Yolov8Pothole-1/data.yaml\", line 11, column 1\n",
            "could not find expected ':'\n",
            "  in \"/content/Yolov8Pothole-1/data.yaml\", line 12, column 1\n",
            "\n",
            "Set the environment variable HYDRA_FULL_ERROR=1 for a complete stack trace.\n"
          ]
        }
      ],
      "source": [
        "%cd {HOME}\n",
        "\n",
        "!yolo task=detect mode=train model=yolov8m.pt data=/content/Yolov8Pothole-1/data.yaml epochs=70 imgsz=640"
      ]
    },
    {
      "cell_type": "code",
      "execution_count": null,
      "metadata": {
        "id": "kX2X0gL8vZLh"
      },
      "outputs": [],
      "source": [
        "!ls {HOME}//runs/detect/train2"
      ]
    },
    {
      "cell_type": "markdown",
      "metadata": {
        "id": "Mhg6vxT1wQ28"
      },
      "source": [
        "#**Displaying the Confusion Matrix**"
      ]
    },
    {
      "cell_type": "code",
      "execution_count": null,
      "metadata": {
        "id": "tim8wr-qvaMv"
      },
      "outputs": [],
      "source": [
        "#Confusion matrix is the chart that shows how our model handles different classes\n",
        "#68% of the time the model detected correctly that there is a pothole, while 32% of the time, when the pothole is there but the model is not\n",
        "#able to detect it\n",
        "%cd {HOME}\n",
        "Image(filename=f'{HOME}/runs/detect/train2/confusion_matrix.png', width=900)"
      ]
    },
    {
      "cell_type": "markdown",
      "metadata": {
        "id": "XteIIIzo0F_p"
      },
      "source": [
        "#**Training and Validation Loss**"
      ]
    },
    {
      "cell_type": "code",
      "execution_count": null,
      "metadata": {
        "id": "c8DH7p1r0HLv"
      },
      "outputs": [],
      "source": [
        "# Here is the graph of the training and validation loss\n",
        "#box loss and class loss is important\n",
        "# The behavior of the model is convincing the model is coverging, Training more will give better results\n",
        "%cd {HOME}\n",
        "\n",
        "Image(filename=f'{HOME}/runs/detect/train2/results.png', width=600)"
      ]
    },
    {
      "cell_type": "code",
      "execution_count": null,
      "metadata": {
        "id": "J6w2X8gY0JIJ"
      },
      "outputs": [],
      "source": [
        "#Model Prediction on validation batch. These image are not used strictly for training so it is always better to take a\n",
        "#look and see how model is behaving\n",
        "%cd {HOME}\n",
        "Image(filename=f'{HOME}/runs/detect/train2/val_batch0_pred.jpg', width=600)"
      ]
    },
    {
      "cell_type": "markdown",
      "metadata": {
        "id": "KC1pPh5c0L2V"
      },
      "source": [
        "#**Validate Custom Model**"
      ]
    },
    {
      "cell_type": "code",
      "execution_count": null,
      "metadata": {
        "colab": {
          "base_uri": "https://localhost:8080/"
        },
        "id": "NihLOPZF0NzS",
        "outputId": "0b0be5bb-5ccf-453c-e736-edbd452fe406"
      },
      "outputs": [
        {
          "name": "stdout",
          "output_type": "stream",
          "text": [
            "/content\n",
            "2024-08-17 19:51:24.726008: E external/local_xla/xla/stream_executor/cuda/cuda_fft.cc:485] Unable to register cuFFT factory: Attempting to register factory for plugin cuFFT when one has already been registered\n",
            "2024-08-17 19:51:24.757367: E external/local_xla/xla/stream_executor/cuda/cuda_dnn.cc:8454] Unable to register cuDNN factory: Attempting to register factory for plugin cuDNN when one has already been registered\n",
            "2024-08-17 19:51:24.767785: E external/local_xla/xla/stream_executor/cuda/cuda_blas.cc:1452] Unable to register cuBLAS factory: Attempting to register factory for plugin cuBLAS when one has already been registered\n",
            "2024-08-17 19:51:24.791336: I tensorflow/core/platform/cpu_feature_guard.cc:210] This TensorFlow binary is optimized to use available CPU instructions in performance-critical operations.\n",
            "To enable the following instructions: AVX2 AVX512F FMA, in other operations, rebuild TensorFlow with the appropriate compiler flags.\n",
            "2024-08-17 19:51:26.306511: W tensorflow/compiler/tf2tensorrt/utils/py_utils.cc:38] TF-TRT Warning: Could not find TensorRT\n",
            "Ultralytics YOLOv8.0.0 🚀 Python-3.10.12 torch-2.3.1+cu121 CUDA:0 (Tesla T4, 15102MiB)\n",
            "Fusing layers... \n",
            "Model summary: 218 layers, 25840339 parameters, 0 gradients, 78.7 GFLOPs\n",
            "\u001b[34m\u001b[1mval: \u001b[0mScanning /content/datasets/Yolov8Pothole-1/valid/labels.cache... 43 images, 0 backgrounds, 0 corrupt: 100% 43/43 [00:00<?, ?it/s]\n",
            "                 Class     Images  Instances      Box(P          R      mAP50  mAP50-95):   0% 0/3 [00:00<?, ?it/s]/usr/lib/python3.10/multiprocessing/popen_fork.py:66: RuntimeWarning: os.fork() was called. os.fork() is incompatible with multithreaded code, and JAX is multithreaded, so this will likely lead to a deadlock.\n",
            "  self.pid = os.fork()\n",
            "                 Class     Images  Instances      Box(P          R      mAP50  mAP50-95): 100% 3/3 [00:04<00:00,  1.36s/it]\n",
            "                   all         43        199       0.42      0.296      0.254     0.0851\n",
            "Speed: 0.3ms pre-process, 29.7ms inference, 0.0ms loss, 34.7ms post-process per image\n"
          ]
        }
      ],
      "source": [
        "#Here, we are taking the model best weights and using them to validate the model. Similarly as before we are using\n",
        "#CLI to do that, The only difference is our mode = val instead of train\n",
        "#Validation Script is using test dataset that was not used beforew\n",
        "\n",
        "%cd {HOME}\n",
        "\n",
        "!yolo task=detect mode=val model={HOME}/runs/detect/train2/weights/best.pt data=/content/datasets/Yolov8Pothole-1/data.yaml"
      ]
    },
    {
      "cell_type": "markdown",
      "metadata": {
        "id": "BQDOJH760QEg"
      },
      "source": [
        "#**Inference with Custom Model**"
      ]
    },
    {
      "cell_type": "code",
      "execution_count": null,
      "metadata": {
        "colab": {
          "base_uri": "https://localhost:8080/"
        },
        "id": "IVIR1fVO0Rql",
        "outputId": "97efb7f9-c195-489a-8792-04b02e48dfdd"
      },
      "outputs": [
        {
          "name": "stdout",
          "output_type": "stream",
          "text": [
            "/content\n",
            "2024-08-17 19:52:50.965895: E external/local_xla/xla/stream_executor/cuda/cuda_fft.cc:485] Unable to register cuFFT factory: Attempting to register factory for plugin cuFFT when one has already been registered\n",
            "2024-08-17 19:52:50.985407: E external/local_xla/xla/stream_executor/cuda/cuda_dnn.cc:8454] Unable to register cuDNN factory: Attempting to register factory for plugin cuDNN when one has already been registered\n",
            "2024-08-17 19:52:50.991474: E external/local_xla/xla/stream_executor/cuda/cuda_blas.cc:1452] Unable to register cuBLAS factory: Attempting to register factory for plugin cuBLAS when one has already been registered\n",
            "2024-08-17 19:52:51.005730: I tensorflow/core/platform/cpu_feature_guard.cc:210] This TensorFlow binary is optimized to use available CPU instructions in performance-critical operations.\n",
            "To enable the following instructions: AVX2 AVX512F FMA, in other operations, rebuild TensorFlow with the appropriate compiler flags.\n",
            "2024-08-17 19:52:52.082008: W tensorflow/compiler/tf2tensorrt/utils/py_utils.cc:38] TF-TRT Warning: Could not find TensorRT\n",
            "Ultralytics YOLOv8.0.0 🚀 Python-3.10.12 torch-2.3.1+cu121 CUDA:0 (Tesla T4, 15102MiB)\n",
            "Fusing layers... \n",
            "Model summary: 218 layers, 25840339 parameters, 0 gradients, 78.7 GFLOPs\n",
            "WARNING ⚠️ NMS time limit 0.550s exceeded\n",
            "image 1/20 /content/datasets/Yolov8Pothole-1/test/images/108_jpg.rf.3998108ef49660303f23644c65115ec9.jpg: 640x640 3 potholes, 37.0ms\n",
            "image 2/20 /content/datasets/Yolov8Pothole-1/test/images/111_jpg.rf.166ed9d024c8a2a14c8a7c7cc24be21e.jpg: 640x640 3 potholes, 37.1ms\n",
            "image 3/20 /content/datasets/Yolov8Pothole-1/test/images/113_jpg.rf.a3aa1cba91d111b3e936b78a16aff108.jpg: 640x640 2 potholes, 37.1ms\n",
            "image 4/20 /content/datasets/Yolov8Pothole-1/test/images/114_jpg.rf.06f208d5dc5f227a9d7edde82050b678.jpg: 640x640 1 pothole, 37.0ms\n",
            "image 5/20 /content/datasets/Yolov8Pothole-1/test/images/122_jpg.rf.f0c3341bdc64d414c8bdde00b13fd087.jpg: 640x640 11 potholes, 37.0ms\n",
            "image 6/20 /content/datasets/Yolov8Pothole-1/test/images/136_jpg.rf.0c51bedb25492f8f36b5e32ef39e20c4.jpg: 640x640 25.9ms\n",
            "image 7/20 /content/datasets/Yolov8Pothole-1/test/images/146_jpg.rf.7b84a1719332ef410ffc64ecd97b418b.jpg: 640x640 6 potholes, 22.3ms\n",
            "image 8/20 /content/datasets/Yolov8Pothole-1/test/images/150_jpg.rf.b72d7b834797155020989898357b1c50.jpg: 640x640 1 pothole, 22.3ms\n",
            "image 9/20 /content/datasets/Yolov8Pothole-1/test/images/156_jpg.rf.05314c87db5f6f10a97c42c971311025.jpg: 640x640 16 potholes, 22.0ms\n",
            "image 10/20 /content/datasets/Yolov8Pothole-1/test/images/158_jpg.rf.e9d5089e925b1db3081eafdbb4235fa0.jpg: 640x640 8 potholes, 21.8ms\n",
            "image 11/20 /content/datasets/Yolov8Pothole-1/test/images/169_jpg.rf.f7b6a6e4e079cc516a6fc6d3119e8aaa.jpg: 640x640 4 potholes, 21.8ms\n",
            "image 12/20 /content/datasets/Yolov8Pothole-1/test/images/170_jpg.rf.2bff58a32020a16bdfbcdb56819a73e9.jpg: 640x640 4 potholes, 17.7ms\n",
            "image 13/20 /content/datasets/Yolov8Pothole-1/test/images/173_jpg.rf.72a08446d2eb8bebb6c7552df2f645e7.jpg: 640x640 4 potholes, 17.9ms\n",
            "image 14/20 /content/datasets/Yolov8Pothole-1/test/images/175_jpg.rf.66036edb6b0f34a93a1922d4d82b9993.jpg: 640x640 17.2ms\n",
            "image 15/20 /content/datasets/Yolov8Pothole-1/test/images/177_jpg.rf.896867586907fd1276780e6459347ad9.jpg: 640x640 1 pothole, 18.7ms\n",
            "image 16/20 /content/datasets/Yolov8Pothole-1/test/images/21_jpg.rf.7144951ab25303b7e5b02adcf1136487.jpg: 640x640 5 potholes, 18.1ms\n",
            "image 17/20 /content/datasets/Yolov8Pothole-1/test/images/57_jpg.rf.bcb7071b2574d264bb1949d70ed91661.jpg: 640x640 2 potholes, 17.9ms\n",
            "image 18/20 /content/datasets/Yolov8Pothole-1/test/images/62_jpg.rf.fbea81267a35ae2624bc7a025fc59fd9.jpg: 640x640 2 potholes, 17.8ms\n",
            "image 19/20 /content/datasets/Yolov8Pothole-1/test/images/76_jpg.rf.6965e00a2979512ced7d8b210f8a997b.jpg: 640x640 14 potholes, 17.4ms\n",
            "image 20/20 /content/datasets/Yolov8Pothole-1/test/images/92_jpg.rf.8e867d0ac2cfb6e60a6fdeb14d591294.jpg: 640x640 2 potholes, 19.2ms\n",
            "Speed: 0.5ms pre-process, 24.2ms inference, 33.3ms postprocess per image at shape (1, 3, 640, 640)\n",
            "Results saved to \u001b[1mruns/detect/predict\u001b[0m\n"
          ]
        }
      ],
      "source": [
        "# Testing the Model on Test Dataset images\n",
        "%cd {HOME}\n",
        "!yolo task=detect mode=predict model={HOME}/runs/detect/train2/weights/best.pt conf=0.25 source=/content/datasets/Yolov8Pothole-1/test/images"
      ]
    },
    {
      "cell_type": "code",
      "execution_count": null,
      "metadata": {
        "colab": {
          "base_uri": "https://localhost:8080/",
          "height": 141
        },
        "id": "X2JysEfC0TOs",
        "outputId": "4e4b88ee-dc7b-44fd-b238-c4995f7f1bf3"
      },
      "outputs": [
        {
          "output_type": "error",
          "ename": "NameError",
          "evalue": "name 'Image' is not defined",
          "traceback": [
            "\u001b[0;31m---------------------------------------------------------------------------\u001b[0m",
            "\u001b[0;31mNameError\u001b[0m                                 Traceback (most recent call last)",
            "\u001b[0;32m<ipython-input-1-091d6c06b90c>\u001b[0m in \u001b[0;36m<cell line: 1>\u001b[0;34m()\u001b[0m\n\u001b[0;32m----> 1\u001b[0;31m \u001b[0mImage\u001b[0m\u001b[0;34m(\u001b[0m\u001b[0;34m\"/content/runs/detect/predict/122.jpg\"\u001b[0m\u001b[0;34m)\u001b[0m\u001b[0;34m\u001b[0m\u001b[0;34m\u001b[0m\u001b[0m\n\u001b[0m",
            "\u001b[0;31mNameError\u001b[0m: name 'Image' is not defined"
          ]
        }
      ],
      "source": [
        "Image(\"/content/runs/detect/predict/122.jpg\")"
      ]
    },
    {
      "cell_type": "markdown",
      "metadata": {
        "id": "mF1NZJ3c0VDi"
      },
      "source": [
        "#**Testing on a Demo Video**"
      ]
    },
    {
      "cell_type": "code",
      "execution_count": null,
      "metadata": {
        "id": "to2aXtZu9vpF"
      },
      "outputs": [],
      "source": []
    },
    {
      "cell_type": "code",
      "execution_count": null,
      "metadata": {
        "id": "C5ZvJQ_n0WrS"
      },
      "outputs": [],
      "source": [
        "!cp \"/content/drive/MyDrive/Pothole Detect/demo2.mp4\" .\n"
      ]
    },
    {
      "cell_type": "code",
      "execution_count": null,
      "metadata": {
        "colab": {
          "base_uri": "https://localhost:8080/"
        },
        "id": "WePJCx8h0YT6",
        "outputId": "f448fb65-6cc9-4d05-afca-effd50c9b349"
      },
      "outputs": [
        {
          "name": "stdout",
          "output_type": "stream",
          "text": [
            "/content\n",
            "2024-08-17 20:30:35.532647: E external/local_xla/xla/stream_executor/cuda/cuda_fft.cc:485] Unable to register cuFFT factory: Attempting to register factory for plugin cuFFT when one has already been registered\n",
            "2024-08-17 20:30:35.565333: E external/local_xla/xla/stream_executor/cuda/cuda_dnn.cc:8454] Unable to register cuDNN factory: Attempting to register factory for plugin cuDNN when one has already been registered\n",
            "2024-08-17 20:30:35.578414: E external/local_xla/xla/stream_executor/cuda/cuda_blas.cc:1452] Unable to register cuBLAS factory: Attempting to register factory for plugin cuBLAS when one has already been registered\n",
            "2024-08-17 20:30:35.601344: I tensorflow/core/platform/cpu_feature_guard.cc:210] This TensorFlow binary is optimized to use available CPU instructions in performance-critical operations.\n",
            "To enable the following instructions: AVX2 AVX512F FMA, in other operations, rebuild TensorFlow with the appropriate compiler flags.\n",
            "2024-08-17 20:30:37.172698: W tensorflow/compiler/tf2tensorrt/utils/py_utils.cc:38] TF-TRT Warning: Could not find TensorRT\n",
            "Ultralytics YOLOv8.0.0 🚀 Python-3.10.12 torch-2.3.1+cu121 CUDA:0 (Tesla T4, 15102MiB)\n",
            "Fusing layers... \n",
            "Model summary: 218 layers, 25840339 parameters, 0 gradients, 78.7 GFLOPs\n",
            "WARNING ⚠️ NMS time limit 0.550s exceeded\n",
            "video 1/1 (1/692) /content/demo2.mp4: 384x640 7 potholes, 118.3ms\n",
            "video 1/1 (2/692) /content/demo2.mp4: 384x640 8 potholes, 25.2ms\n",
            "video 1/1 (3/692) /content/demo2.mp4: 384x640 9 potholes, 25.1ms\n",
            "video 1/1 (4/692) /content/demo2.mp4: 384x640 9 potholes, 25.1ms\n",
            "video 1/1 (5/692) /content/demo2.mp4: 384x640 7 potholes, 25.1ms\n",
            "video 1/1 (6/692) /content/demo2.mp4: 384x640 7 potholes, 25.1ms\n",
            "video 1/1 (7/692) /content/demo2.mp4: 384x640 9 potholes, 25.1ms\n",
            "video 1/1 (8/692) /content/demo2.mp4: 384x640 6 potholes, 25.1ms\n",
            "video 1/1 (9/692) /content/demo2.mp4: 384x640 6 potholes, 25.1ms\n",
            "video 1/1 (10/692) /content/demo2.mp4: 384x640 6 potholes, 22.6ms\n",
            "video 1/1 (11/692) /content/demo2.mp4: 384x640 6 potholes, 20.3ms\n",
            "video 1/1 (12/692) /content/demo2.mp4: 384x640 6 potholes, 20.3ms\n",
            "video 1/1 (13/692) /content/demo2.mp4: 384x640 6 potholes, 20.2ms\n",
            "video 1/1 (14/692) /content/demo2.mp4: 384x640 6 potholes, 20.3ms\n",
            "video 1/1 (15/692) /content/demo2.mp4: 384x640 9 potholes, 20.3ms\n",
            "video 1/1 (16/692) /content/demo2.mp4: 384x640 9 potholes, 20.3ms\n",
            "video 1/1 (17/692) /content/demo2.mp4: 384x640 8 potholes, 20.4ms\n",
            "video 1/1 (18/692) /content/demo2.mp4: 384x640 8 potholes, 20.3ms\n",
            "video 1/1 (19/692) /content/demo2.mp4: 384x640 7 potholes, 20.3ms\n",
            "video 1/1 (20/692) /content/demo2.mp4: 384x640 8 potholes, 20.3ms\n",
            "video 1/1 (21/692) /content/demo2.mp4: 384x640 9 potholes, 20.3ms\n",
            "video 1/1 (22/692) /content/demo2.mp4: 384x640 8 potholes, 17.4ms\n",
            "video 1/1 (23/692) /content/demo2.mp4: 384x640 10 potholes, 17.4ms\n",
            "video 1/1 (24/692) /content/demo2.mp4: 384x640 9 potholes, 17.4ms\n",
            "video 1/1 (25/692) /content/demo2.mp4: 384x640 7 potholes, 17.4ms\n",
            "video 1/1 (26/692) /content/demo2.mp4: 384x640 9 potholes, 17.4ms\n",
            "video 1/1 (27/692) /content/demo2.mp4: 384x640 7 potholes, 16.3ms\n",
            "video 1/1 (28/692) /content/demo2.mp4: 384x640 7 potholes, 15.7ms\n",
            "video 1/1 (29/692) /content/demo2.mp4: 384x640 8 potholes, 15.6ms\n",
            "video 1/1 (30/692) /content/demo2.mp4: 384x640 10 potholes, 15.6ms\n",
            "video 1/1 (31/692) /content/demo2.mp4: 384x640 10 potholes, 15.7ms\n",
            "video 1/1 (32/692) /content/demo2.mp4: 384x640 8 potholes, 15.7ms\n",
            "video 1/1 (33/692) /content/demo2.mp4: 384x640 7 potholes, 14.6ms\n",
            "video 1/1 (34/692) /content/demo2.mp4: 384x640 7 potholes, 13.5ms\n",
            "video 1/1 (35/692) /content/demo2.mp4: 384x640 7 potholes, 13.5ms\n",
            "video 1/1 (36/692) /content/demo2.mp4: 384x640 7 potholes, 13.5ms\n",
            "video 1/1 (37/692) /content/demo2.mp4: 384x640 8 potholes, 13.4ms\n",
            "video 1/1 (38/692) /content/demo2.mp4: 384x640 11 potholes, 13.3ms\n",
            "video 1/1 (39/692) /content/demo2.mp4: 384x640 8 potholes, 13.4ms\n",
            "video 1/1 (40/692) /content/demo2.mp4: 384x640 9 potholes, 12.1ms\n",
            "video 1/1 (41/692) /content/demo2.mp4: 384x640 8 potholes, 12.1ms\n",
            "video 1/1 (42/692) /content/demo2.mp4: 384x640 9 potholes, 12.1ms\n",
            "video 1/1 (43/692) /content/demo2.mp4: 384x640 10 potholes, 12.0ms\n",
            "video 1/1 (44/692) /content/demo2.mp4: 384x640 7 potholes, 12.0ms\n",
            "video 1/1 (45/692) /content/demo2.mp4: 384x640 9 potholes, 12.2ms\n",
            "video 1/1 (46/692) /content/demo2.mp4: 384x640 9 potholes, 12.0ms\n",
            "video 1/1 (47/692) /content/demo2.mp4: 384x640 7 potholes, 12.0ms\n",
            "video 1/1 (48/692) /content/demo2.mp4: 384x640 6 potholes, 12.0ms\n",
            "video 1/1 (49/692) /content/demo2.mp4: 384x640 7 potholes, 12.0ms\n",
            "video 1/1 (50/692) /content/demo2.mp4: 384x640 6 potholes, 12.0ms\n",
            "video 1/1 (51/692) /content/demo2.mp4: 384x640 7 potholes, 12.0ms\n",
            "video 1/1 (52/692) /content/demo2.mp4: 384x640 8 potholes, 12.0ms\n",
            "video 1/1 (53/692) /content/demo2.mp4: 384x640 6 potholes, 11.9ms\n",
            "video 1/1 (54/692) /content/demo2.mp4: 384x640 6 potholes, 11.8ms\n",
            "video 1/1 (55/692) /content/demo2.mp4: 384x640 8 potholes, 12.4ms\n",
            "video 1/1 (56/692) /content/demo2.mp4: 384x640 6 potholes, 11.8ms\n",
            "video 1/1 (57/692) /content/demo2.mp4: 384x640 6 potholes, 11.7ms\n",
            "video 1/1 (58/692) /content/demo2.mp4: 384x640 6 potholes, 11.7ms\n",
            "video 1/1 (59/692) /content/demo2.mp4: 384x640 10 potholes, 11.7ms\n",
            "video 1/1 (60/692) /content/demo2.mp4: 384x640 8 potholes, 11.6ms\n",
            "video 1/1 (61/692) /content/demo2.mp4: 384x640 7 potholes, 11.5ms\n",
            "video 1/1 (62/692) /content/demo2.mp4: 384x640 8 potholes, 11.5ms\n",
            "video 1/1 (63/692) /content/demo2.mp4: 384x640 10 potholes, 13.6ms\n",
            "video 1/1 (64/692) /content/demo2.mp4: 384x640 7 potholes, 11.5ms\n",
            "video 1/1 (65/692) /content/demo2.mp4: 384x640 14 potholes, 11.5ms\n",
            "video 1/1 (66/692) /content/demo2.mp4: 384x640 9 potholes, 11.5ms\n",
            "video 1/1 (67/692) /content/demo2.mp4: 384x640 8 potholes, 11.5ms\n",
            "video 1/1 (68/692) /content/demo2.mp4: 384x640 9 potholes, 11.5ms\n",
            "video 1/1 (69/692) /content/demo2.mp4: 384x640 8 potholes, 11.5ms\n",
            "video 1/1 (70/692) /content/demo2.mp4: 384x640 8 potholes, 11.5ms\n",
            "video 1/1 (71/692) /content/demo2.mp4: 384x640 8 potholes, 13.4ms\n",
            "video 1/1 (72/692) /content/demo2.mp4: 384x640 8 potholes, 11.5ms\n",
            "video 1/1 (73/692) /content/demo2.mp4: 384x640 9 potholes, 11.5ms\n",
            "video 1/1 (74/692) /content/demo2.mp4: 384x640 10 potholes, 11.5ms\n",
            "video 1/1 (75/692) /content/demo2.mp4: 384x640 10 potholes, 11.5ms\n",
            "video 1/1 (76/692) /content/demo2.mp4: 384x640 10 potholes, 11.5ms\n",
            "video 1/1 (77/692) /content/demo2.mp4: 384x640 7 potholes, 11.5ms\n",
            "video 1/1 (78/692) /content/demo2.mp4: 384x640 7 potholes, 13.6ms\n",
            "video 1/1 (79/692) /content/demo2.mp4: 384x640 6 potholes, 11.5ms\n",
            "video 1/1 (80/692) /content/demo2.mp4: 384x640 7 potholes, 11.7ms\n",
            "video 1/1 (81/692) /content/demo2.mp4: 384x640 8 potholes, 11.5ms\n",
            "video 1/1 (82/692) /content/demo2.mp4: 384x640 8 potholes, 11.5ms\n",
            "video 1/1 (83/692) /content/demo2.mp4: 384x640 11 potholes, 11.5ms\n",
            "video 1/1 (84/692) /content/demo2.mp4: 384x640 9 potholes, 11.5ms\n",
            "video 1/1 (85/692) /content/demo2.mp4: 384x640 11 potholes, 11.5ms\n",
            "video 1/1 (86/692) /content/demo2.mp4: 384x640 7 potholes, 11.5ms\n",
            "video 1/1 (87/692) /content/demo2.mp4: 384x640 8 potholes, 11.1ms\n",
            "video 1/1 (88/692) /content/demo2.mp4: 384x640 7 potholes, 11.1ms\n",
            "video 1/1 (89/692) /content/demo2.mp4: 384x640 10 potholes, 11.1ms\n",
            "video 1/1 (90/692) /content/demo2.mp4: 384x640 10 potholes, 11.1ms\n",
            "video 1/1 (91/692) /content/demo2.mp4: 384x640 9 potholes, 11.1ms\n",
            "video 1/1 (92/692) /content/demo2.mp4: 384x640 11 potholes, 11.1ms\n",
            "video 1/1 (93/692) /content/demo2.mp4: 384x640 11 potholes, 11.1ms\n",
            "video 1/1 (94/692) /content/demo2.mp4: 384x640 9 potholes, 11.1ms\n",
            "video 1/1 (95/692) /content/demo2.mp4: 384x640 6 potholes, 11.2ms\n",
            "video 1/1 (96/692) /content/demo2.mp4: 384x640 10 potholes, 11.1ms\n",
            "video 1/1 (97/692) /content/demo2.mp4: 384x640 10 potholes, 11.1ms\n",
            "video 1/1 (98/692) /content/demo2.mp4: 384x640 12 potholes, 11.1ms\n",
            "video 1/1 (99/692) /content/demo2.mp4: 384x640 9 potholes, 11.1ms\n",
            "video 1/1 (100/692) /content/demo2.mp4: 384x640 10 potholes, 11.1ms\n",
            "video 1/1 (101/692) /content/demo2.mp4: 384x640 10 potholes, 11.1ms\n",
            "video 1/1 (102/692) /content/demo2.mp4: 384x640 8 potholes, 11.1ms\n",
            "video 1/1 (103/692) /content/demo2.mp4: 384x640 9 potholes, 11.1ms\n",
            "video 1/1 (104/692) /content/demo2.mp4: 384x640 9 potholes, 11.1ms\n",
            "video 1/1 (105/692) /content/demo2.mp4: 384x640 11 potholes, 11.1ms\n",
            "video 1/1 (106/692) /content/demo2.mp4: 384x640 10 potholes, 11.3ms\n",
            "video 1/1 (107/692) /content/demo2.mp4: 384x640 10 potholes, 11.2ms\n",
            "video 1/1 (108/692) /content/demo2.mp4: 384x640 11 potholes, 11.1ms\n",
            "video 1/1 (109/692) /content/demo2.mp4: 384x640 10 potholes, 11.1ms\n",
            "video 1/1 (110/692) /content/demo2.mp4: 384x640 10 potholes, 11.1ms\n",
            "video 1/1 (111/692) /content/demo2.mp4: 384x640 9 potholes, 14.0ms\n",
            "video 1/1 (112/692) /content/demo2.mp4: 384x640 7 potholes, 11.1ms\n",
            "video 1/1 (113/692) /content/demo2.mp4: 384x640 7 potholes, 11.1ms\n",
            "video 1/1 (114/692) /content/demo2.mp4: 384x640 7 potholes, 11.1ms\n",
            "video 1/1 (115/692) /content/demo2.mp4: 384x640 7 potholes, 11.4ms\n",
            "video 1/1 (116/692) /content/demo2.mp4: 384x640 8 potholes, 11.2ms\n",
            "video 1/1 (117/692) /content/demo2.mp4: 384x640 7 potholes, 11.1ms\n",
            "video 1/1 (118/692) /content/demo2.mp4: 384x640 7 potholes, 11.1ms\n",
            "video 1/1 (119/692) /content/demo2.mp4: 384x640 8 potholes, 11.1ms\n",
            "video 1/1 (120/692) /content/demo2.mp4: 384x640 8 potholes, 11.4ms\n",
            "video 1/1 (121/692) /content/demo2.mp4: 384x640 7 potholes, 11.2ms\n",
            "video 1/1 (122/692) /content/demo2.mp4: 384x640 6 potholes, 11.3ms\n",
            "video 1/1 (123/692) /content/demo2.mp4: 384x640 7 potholes, 11.2ms\n",
            "video 1/1 (124/692) /content/demo2.mp4: 384x640 6 potholes, 11.2ms\n",
            "video 1/1 (125/692) /content/demo2.mp4: 384x640 8 potholes, 11.2ms\n",
            "video 1/1 (126/692) /content/demo2.mp4: 384x640 6 potholes, 11.2ms\n",
            "video 1/1 (127/692) /content/demo2.mp4: 384x640 6 potholes, 11.4ms\n",
            "video 1/1 (128/692) /content/demo2.mp4: 384x640 5 potholes, 11.2ms\n",
            "video 1/1 (129/692) /content/demo2.mp4: 384x640 4 potholes, 11.4ms\n",
            "video 1/1 (130/692) /content/demo2.mp4: 384x640 4 potholes, 11.2ms\n",
            "video 1/1 (131/692) /content/demo2.mp4: 384x640 4 potholes, 11.6ms\n",
            "video 1/1 (132/692) /content/demo2.mp4: 384x640 3 potholes, 11.5ms\n",
            "video 1/1 (133/692) /content/demo2.mp4: 384x640 5 potholes, 11.2ms\n",
            "video 1/1 (134/692) /content/demo2.mp4: 384x640 4 potholes, 11.2ms\n",
            "video 1/1 (135/692) /content/demo2.mp4: 384x640 3 potholes, 11.2ms\n",
            "video 1/1 (136/692) /content/demo2.mp4: 384x640 2 potholes, 11.1ms\n",
            "video 1/1 (137/692) /content/demo2.mp4: 384x640 1 pothole, 11.1ms\n",
            "video 1/1 (138/692) /content/demo2.mp4: 384x640 2 potholes, 11.7ms\n",
            "video 1/1 (139/692) /content/demo2.mp4: 384x640 3 potholes, 11.3ms\n",
            "video 1/1 (140/692) /content/demo2.mp4: 384x640 3 potholes, 11.3ms\n",
            "video 1/1 (141/692) /content/demo2.mp4: 384x640 2 potholes, 14.9ms\n",
            "video 1/1 (142/692) /content/demo2.mp4: 384x640 2 potholes, 11.3ms\n",
            "video 1/1 (143/692) /content/demo2.mp4: 384x640 3 potholes, 11.2ms\n",
            "video 1/1 (144/692) /content/demo2.mp4: 384x640 4 potholes, 11.5ms\n",
            "video 1/1 (145/692) /content/demo2.mp4: 384x640 2 potholes, 11.2ms\n",
            "video 1/1 (146/692) /content/demo2.mp4: 384x640 3 potholes, 11.5ms\n",
            "video 1/1 (147/692) /content/demo2.mp4: 384x640 4 potholes, 11.3ms\n",
            "video 1/1 (148/692) /content/demo2.mp4: 384x640 3 potholes, 11.2ms\n",
            "video 1/1 (149/692) /content/demo2.mp4: 384x640 4 potholes, 11.5ms\n",
            "video 1/1 (150/692) /content/demo2.mp4: 384x640 3 potholes, 11.2ms\n",
            "video 1/1 (151/692) /content/demo2.mp4: 384x640 4 potholes, 11.2ms\n",
            "video 1/1 (152/692) /content/demo2.mp4: 384x640 6 potholes, 11.2ms\n",
            "video 1/1 (153/692) /content/demo2.mp4: 384x640 4 potholes, 11.1ms\n",
            "video 1/1 (154/692) /content/demo2.mp4: 384x640 2 potholes, 11.3ms\n",
            "video 1/1 (155/692) /content/demo2.mp4: 384x640 3 potholes, 11.2ms\n",
            "video 1/1 (156/692) /content/demo2.mp4: 384x640 2 potholes, 11.2ms\n",
            "video 1/1 (157/692) /content/demo2.mp4: 384x640 2 potholes, 11.1ms\n",
            "video 1/1 (158/692) /content/demo2.mp4: 384x640 3 potholes, 11.4ms\n",
            "video 1/1 (159/692) /content/demo2.mp4: 384x640 5 potholes, 11.2ms\n",
            "video 1/1 (160/692) /content/demo2.mp4: 384x640 4 potholes, 11.1ms\n",
            "video 1/1 (161/692) /content/demo2.mp4: 384x640 3 potholes, 11.3ms\n",
            "video 1/1 (162/692) /content/demo2.mp4: 384x640 4 potholes, 11.1ms\n",
            "video 1/1 (163/692) /content/demo2.mp4: 384x640 5 potholes, 11.2ms\n",
            "video 1/1 (164/692) /content/demo2.mp4: 384x640 5 potholes, 11.2ms\n",
            "video 1/1 (165/692) /content/demo2.mp4: 384x640 5 potholes, 11.1ms\n",
            "video 1/1 (166/692) /content/demo2.mp4: 384x640 5 potholes, 11.6ms\n",
            "video 1/1 (167/692) /content/demo2.mp4: 384x640 6 potholes, 11.2ms\n",
            "video 1/1 (168/692) /content/demo2.mp4: 384x640 6 potholes, 11.1ms\n",
            "video 1/1 (169/692) /content/demo2.mp4: 384x640 6 potholes, 11.6ms\n",
            "video 1/1 (170/692) /content/demo2.mp4: 384x640 6 potholes, 11.2ms\n",
            "video 1/1 (171/692) /content/demo2.mp4: 384x640 7 potholes, 11.1ms\n",
            "video 1/1 (172/692) /content/demo2.mp4: 384x640 7 potholes, 11.2ms\n",
            "video 1/1 (173/692) /content/demo2.mp4: 384x640 6 potholes, 11.1ms\n",
            "video 1/1 (174/692) /content/demo2.mp4: 384x640 6 potholes, 11.3ms\n",
            "video 1/1 (175/692) /content/demo2.mp4: 384x640 9 potholes, 11.1ms\n",
            "video 1/1 (176/692) /content/demo2.mp4: 384x640 8 potholes, 11.2ms\n",
            "video 1/1 (177/692) /content/demo2.mp4: 384x640 8 potholes, 11.1ms\n",
            "video 1/1 (178/692) /content/demo2.mp4: 384x640 8 potholes, 11.2ms\n",
            "video 1/1 (179/692) /content/demo2.mp4: 384x640 7 potholes, 11.1ms\n",
            "video 1/1 (180/692) /content/demo2.mp4: 384x640 10 potholes, 11.2ms\n",
            "video 1/1 (181/692) /content/demo2.mp4: 384x640 7 potholes, 11.1ms\n",
            "video 1/1 (182/692) /content/demo2.mp4: 384x640 5 potholes, 11.8ms\n",
            "video 1/1 (183/692) /content/demo2.mp4: 384x640 9 potholes, 11.1ms\n",
            "video 1/1 (184/692) /content/demo2.mp4: 384x640 6 potholes, 11.3ms\n",
            "video 1/1 (185/692) /content/demo2.mp4: 384x640 7 potholes, 11.1ms\n",
            "video 1/1 (186/692) /content/demo2.mp4: 384x640 9 potholes, 11.2ms\n",
            "video 1/1 (187/692) /content/demo2.mp4: 384x640 8 potholes, 11.1ms\n",
            "video 1/1 (188/692) /content/demo2.mp4: 384x640 7 potholes, 11.1ms\n",
            "video 1/1 (189/692) /content/demo2.mp4: 384x640 6 potholes, 11.2ms\n",
            "video 1/1 (190/692) /content/demo2.mp4: 384x640 6 potholes, 13.2ms\n",
            "video 1/1 (191/692) /content/demo2.mp4: 384x640 4 potholes, 11.4ms\n",
            "video 1/1 (192/692) /content/demo2.mp4: 384x640 8 potholes, 12.5ms\n",
            "video 1/1 (193/692) /content/demo2.mp4: 384x640 6 potholes, 11.3ms\n",
            "video 1/1 (194/692) /content/demo2.mp4: 384x640 9 potholes, 11.1ms\n",
            "video 1/1 (195/692) /content/demo2.mp4: 384x640 4 potholes, 11.2ms\n",
            "video 1/1 (196/692) /content/demo2.mp4: 384x640 5 potholes, 11.1ms\n",
            "video 1/1 (197/692) /content/demo2.mp4: 384x640 4 potholes, 11.1ms\n",
            "video 1/1 (198/692) /content/demo2.mp4: 384x640 3 potholes, 11.7ms\n",
            "video 1/1 (199/692) /content/demo2.mp4: 384x640 4 potholes, 11.2ms\n",
            "video 1/1 (200/692) /content/demo2.mp4: 384x640 5 potholes, 11.1ms\n",
            "video 1/1 (201/692) /content/demo2.mp4: 384x640 5 potholes, 11.4ms\n",
            "video 1/1 (202/692) /content/demo2.mp4: 384x640 6 potholes, 11.2ms\n",
            "video 1/1 (203/692) /content/demo2.mp4: 384x640 5 potholes, 11.1ms\n",
            "video 1/1 (204/692) /content/demo2.mp4: 384x640 3 potholes, 12.3ms\n",
            "video 1/1 (205/692) /content/demo2.mp4: 384x640 3 potholes, 11.2ms\n",
            "video 1/1 (206/692) /content/demo2.mp4: 384x640 5 potholes, 11.1ms\n",
            "video 1/1 (207/692) /content/demo2.mp4: 384x640 4 potholes, 11.3ms\n",
            "video 1/1 (208/692) /content/demo2.mp4: 384x640 5 potholes, 11.2ms\n",
            "video 1/1 (209/692) /content/demo2.mp4: 384x640 6 potholes, 11.1ms\n",
            "video 1/1 (210/692) /content/demo2.mp4: 384x640 5 potholes, 11.1ms\n",
            "video 1/1 (211/692) /content/demo2.mp4: 384x640 7 potholes, 11.1ms\n",
            "video 1/1 (212/692) /content/demo2.mp4: 384x640 6 potholes, 11.3ms\n",
            "video 1/1 (213/692) /content/demo2.mp4: 384x640 7 potholes, 11.1ms\n",
            "video 1/1 (214/692) /content/demo2.mp4: 384x640 6 potholes, 14.5ms\n",
            "video 1/1 (215/692) /content/demo2.mp4: 384x640 5 potholes, 11.1ms\n",
            "video 1/1 (216/692) /content/demo2.mp4: 384x640 6 potholes, 11.3ms\n",
            "video 1/1 (217/692) /content/demo2.mp4: 384x640 7 potholes, 11.1ms\n",
            "video 1/1 (218/692) /content/demo2.mp4: 384x640 6 potholes, 11.1ms\n",
            "video 1/1 (219/692) /content/demo2.mp4: 384x640 6 potholes, 11.1ms\n",
            "video 1/1 (220/692) /content/demo2.mp4: 384x640 6 potholes, 11.1ms\n",
            "video 1/1 (221/692) /content/demo2.mp4: 384x640 7 potholes, 11.2ms\n",
            "video 1/1 (222/692) /content/demo2.mp4: 384x640 6 potholes, 11.1ms\n",
            "video 1/1 (223/692) /content/demo2.mp4: 384x640 6 potholes, 11.1ms\n",
            "video 1/1 (224/692) /content/demo2.mp4: 384x640 6 potholes, 13.7ms\n",
            "video 1/1 (225/692) /content/demo2.mp4: 384x640 7 potholes, 11.2ms\n",
            "video 1/1 (226/692) /content/demo2.mp4: 384x640 7 potholes, 11.3ms\n",
            "video 1/1 (227/692) /content/demo2.mp4: 384x640 7 potholes, 11.1ms\n",
            "video 1/1 (228/692) /content/demo2.mp4: 384x640 8 potholes, 11.1ms\n",
            "video 1/1 (229/692) /content/demo2.mp4: 384x640 7 potholes, 11.2ms\n",
            "video 1/1 (230/692) /content/demo2.mp4: 384x640 8 potholes, 11.2ms\n",
            "video 1/1 (231/692) /content/demo2.mp4: 384x640 8 potholes, 11.2ms\n",
            "video 1/1 (232/692) /content/demo2.mp4: 384x640 8 potholes, 11.1ms\n",
            "video 1/1 (233/692) /content/demo2.mp4: 384x640 7 potholes, 11.4ms\n",
            "video 1/1 (234/692) /content/demo2.mp4: 384x640 9 potholes, 11.1ms\n",
            "video 1/1 (235/692) /content/demo2.mp4: 384x640 9 potholes, 11.1ms\n",
            "video 1/1 (236/692) /content/demo2.mp4: 384x640 8 potholes, 11.1ms\n",
            "video 1/1 (237/692) /content/demo2.mp4: 384x640 7 potholes, 11.1ms\n",
            "video 1/1 (238/692) /content/demo2.mp4: 384x640 8 potholes, 11.3ms\n",
            "video 1/1 (239/692) /content/demo2.mp4: 384x640 7 potholes, 11.1ms\n",
            "video 1/1 (240/692) /content/demo2.mp4: 384x640 7 potholes, 11.4ms\n",
            "video 1/1 (241/692) /content/demo2.mp4: 384x640 7 potholes, 11.1ms\n",
            "video 1/1 (242/692) /content/demo2.mp4: 384x640 6 potholes, 11.1ms\n",
            "video 1/1 (243/692) /content/demo2.mp4: 384x640 7 potholes, 11.1ms\n",
            "video 1/1 (244/692) /content/demo2.mp4: 384x640 7 potholes, 11.1ms\n",
            "video 1/1 (245/692) /content/demo2.mp4: 384x640 7 potholes, 11.5ms\n",
            "video 1/1 (246/692) /content/demo2.mp4: 384x640 8 potholes, 11.2ms\n",
            "video 1/1 (247/692) /content/demo2.mp4: 384x640 7 potholes, 11.2ms\n",
            "video 1/1 (248/692) /content/demo2.mp4: 384x640 6 potholes, 11.1ms\n",
            "video 1/1 (249/692) /content/demo2.mp4: 384x640 6 potholes, 11.1ms\n",
            "video 1/1 (250/692) /content/demo2.mp4: 384x640 8 potholes, 12.2ms\n",
            "video 1/1 (251/692) /content/demo2.mp4: 384x640 7 potholes, 11.2ms\n",
            "video 1/1 (252/692) /content/demo2.mp4: 384x640 5 potholes, 12.8ms\n",
            "video 1/1 (253/692) /content/demo2.mp4: 384x640 5 potholes, 11.1ms\n",
            "video 1/1 (254/692) /content/demo2.mp4: 384x640 5 potholes, 11.5ms\n",
            "video 1/1 (255/692) /content/demo2.mp4: 384x640 4 potholes, 11.5ms\n",
            "video 1/1 (256/692) /content/demo2.mp4: 384x640 5 potholes, 11.1ms\n",
            "video 1/1 (257/692) /content/demo2.mp4: 384x640 3 potholes, 11.1ms\n",
            "video 1/1 (258/692) /content/demo2.mp4: 384x640 5 potholes, 15.4ms\n",
            "video 1/1 (259/692) /content/demo2.mp4: 384x640 4 potholes, 12.2ms\n",
            "video 1/1 (260/692) /content/demo2.mp4: 384x640 4 potholes, 12.3ms\n",
            "video 1/1 (261/692) /content/demo2.mp4: 384x640 4 potholes, 11.2ms\n",
            "video 1/1 (262/692) /content/demo2.mp4: 384x640 4 potholes, 13.6ms\n",
            "video 1/1 (263/692) /content/demo2.mp4: 384x640 4 potholes, 12.9ms\n",
            "video 1/1 (264/692) /content/demo2.mp4: 384x640 3 potholes, 11.1ms\n",
            "video 1/1 (265/692) /content/demo2.mp4: 384x640 4 potholes, 11.1ms\n",
            "video 1/1 (266/692) /content/demo2.mp4: 384x640 4 potholes, 16.4ms\n",
            "video 1/1 (267/692) /content/demo2.mp4: 384x640 2 potholes, 14.0ms\n",
            "video 1/1 (268/692) /content/demo2.mp4: 384x640 2 potholes, 12.6ms\n",
            "video 1/1 (269/692) /content/demo2.mp4: 384x640 3 potholes, 16.5ms\n",
            "video 1/1 (270/692) /content/demo2.mp4: 384x640 2 potholes, 11.5ms\n",
            "video 1/1 (271/692) /content/demo2.mp4: 384x640 2 potholes, 11.2ms\n",
            "video 1/1 (272/692) /content/demo2.mp4: 384x640 2 potholes, 11.2ms\n",
            "video 1/1 (273/692) /content/demo2.mp4: 384x640 2 potholes, 12.8ms\n",
            "video 1/1 (274/692) /content/demo2.mp4: 384x640 2 potholes, 11.8ms\n",
            "video 1/1 (275/692) /content/demo2.mp4: 384x640 3 potholes, 11.8ms\n",
            "video 1/1 (276/692) /content/demo2.mp4: 384x640 3 potholes, 14.4ms\n",
            "video 1/1 (277/692) /content/demo2.mp4: 384x640 4 potholes, 11.8ms\n",
            "video 1/1 (278/692) /content/demo2.mp4: 384x640 2 potholes, 12.0ms\n",
            "video 1/1 (279/692) /content/demo2.mp4: 384x640 2 potholes, 12.9ms\n",
            "video 1/1 (280/692) /content/demo2.mp4: 384x640 2 potholes, 18.1ms\n",
            "video 1/1 (281/692) /content/demo2.mp4: 384x640 2 potholes, 11.9ms\n",
            "video 1/1 (282/692) /content/demo2.mp4: 384x640 1 pothole, 11.9ms\n",
            "video 1/1 (283/692) /content/demo2.mp4: 384x640 2 potholes, 12.2ms\n",
            "video 1/1 (284/692) /content/demo2.mp4: 384x640 3 potholes, 12.2ms\n",
            "video 1/1 (285/692) /content/demo2.mp4: 384x640 4 potholes, 16.3ms\n",
            "video 1/1 (286/692) /content/demo2.mp4: 384x640 3 potholes, 12.1ms\n",
            "video 1/1 (287/692) /content/demo2.mp4: 384x640 2 potholes, 16.5ms\n",
            "video 1/1 (288/692) /content/demo2.mp4: 384x640 2 potholes, 16.5ms\n",
            "video 1/1 (289/692) /content/demo2.mp4: 384x640 1 pothole, 12.4ms\n",
            "video 1/1 (290/692) /content/demo2.mp4: 384x640 1 pothole, 12.4ms\n",
            "video 1/1 (291/692) /content/demo2.mp4: 384x640 2 potholes, 12.3ms\n",
            "video 1/1 (292/692) /content/demo2.mp4: 384x640 2 potholes, 15.0ms\n",
            "video 1/1 (293/692) /content/demo2.mp4: 384x640 3 potholes, 12.7ms\n",
            "video 1/1 (294/692) /content/demo2.mp4: 384x640 4 potholes, 17.0ms\n",
            "video 1/1 (295/692) /content/demo2.mp4: 384x640 1 pothole, 12.9ms\n",
            "video 1/1 (296/692) /content/demo2.mp4: 384x640 3 potholes, 12.6ms\n",
            "video 1/1 (297/692) /content/demo2.mp4: 384x640 3 potholes, 12.5ms\n",
            "video 1/1 (298/692) /content/demo2.mp4: 384x640 1 pothole, 12.6ms\n",
            "video 1/1 (299/692) /content/demo2.mp4: 384x640 3 potholes, 12.6ms\n",
            "video 1/1 (300/692) /content/demo2.mp4: 384x640 3 potholes, 12.6ms\n",
            "video 1/1 (301/692) /content/demo2.mp4: 384x640 3 potholes, 12.6ms\n",
            "video 1/1 (302/692) /content/demo2.mp4: 384x640 2 potholes, 12.6ms\n",
            "video 1/1 (303/692) /content/demo2.mp4: 384x640 2 potholes, 15.5ms\n",
            "video 1/1 (304/692) /content/demo2.mp4: 384x640 2 potholes, 12.9ms\n",
            "video 1/1 (305/692) /content/demo2.mp4: 384x640 3 potholes, 14.9ms\n",
            "video 1/1 (306/692) /content/demo2.mp4: 384x640 2 potholes, 13.3ms\n",
            "video 1/1 (307/692) /content/demo2.mp4: 384x640 3 potholes, 14.0ms\n",
            "video 1/1 (308/692) /content/demo2.mp4: 384x640 3 potholes, 12.8ms\n",
            "video 1/1 (309/692) /content/demo2.mp4: 384x640 1 pothole, 14.4ms\n",
            "video 1/1 (310/692) /content/demo2.mp4: 384x640 1 pothole, 13.1ms\n",
            "video 1/1 (311/692) /content/demo2.mp4: 384x640 2 potholes, 13.9ms\n",
            "video 1/1 (312/692) /content/demo2.mp4: 384x640 3 potholes, 13.5ms\n",
            "video 1/1 (313/692) /content/demo2.mp4: 384x640 2 potholes, 12.9ms\n",
            "video 1/1 (314/692) /content/demo2.mp4: 384x640 1 pothole, 13.3ms\n",
            "video 1/1 (315/692) /content/demo2.mp4: 384x640 2 potholes, 13.3ms\n",
            "video 1/1 (316/692) /content/demo2.mp4: 384x640 3 potholes, 13.3ms\n",
            "video 1/1 (317/692) /content/demo2.mp4: 384x640 4 potholes, 13.0ms\n",
            "video 1/1 (318/692) /content/demo2.mp4: 384x640 3 potholes, 13.1ms\n",
            "video 1/1 (319/692) /content/demo2.mp4: 384x640 3 potholes, 14.0ms\n",
            "video 1/1 (320/692) /content/demo2.mp4: 384x640 4 potholes, 13.4ms\n",
            "video 1/1 (321/692) /content/demo2.mp4: 384x640 3 potholes, 13.2ms\n",
            "video 1/1 (322/692) /content/demo2.mp4: 384x640 3 potholes, 13.2ms\n",
            "video 1/1 (323/692) /content/demo2.mp4: 384x640 4 potholes, 13.7ms\n",
            "video 1/1 (324/692) /content/demo2.mp4: 384x640 3 potholes, 13.6ms\n",
            "video 1/1 (325/692) /content/demo2.mp4: 384x640 3 potholes, 13.6ms\n",
            "video 1/1 (326/692) /content/demo2.mp4: 384x640 3 potholes, 13.4ms\n",
            "video 1/1 (327/692) /content/demo2.mp4: 384x640 3 potholes, 13.6ms\n",
            "video 1/1 (328/692) /content/demo2.mp4: 384x640 4 potholes, 13.5ms\n",
            "video 1/1 (329/692) /content/demo2.mp4: 384x640 4 potholes, 13.8ms\n",
            "video 1/1 (330/692) /content/demo2.mp4: 384x640 4 potholes, 14.2ms\n",
            "video 1/1 (331/692) /content/demo2.mp4: 384x640 3 potholes, 13.7ms\n",
            "video 1/1 (332/692) /content/demo2.mp4: 384x640 3 potholes, 14.6ms\n",
            "video 1/1 (333/692) /content/demo2.mp4: 384x640 3 potholes, 13.9ms\n",
            "video 1/1 (334/692) /content/demo2.mp4: 384x640 4 potholes, 14.0ms\n",
            "video 1/1 (335/692) /content/demo2.mp4: 384x640 3 potholes, 14.0ms\n",
            "video 1/1 (336/692) /content/demo2.mp4: 384x640 2 potholes, 13.7ms\n",
            "video 1/1 (337/692) /content/demo2.mp4: 384x640 2 potholes, 14.5ms\n",
            "video 1/1 (338/692) /content/demo2.mp4: 384x640 3 potholes, 13.8ms\n",
            "video 1/1 (339/692) /content/demo2.mp4: 384x640 3 potholes, 14.1ms\n",
            "video 1/1 (340/692) /content/demo2.mp4: 384x640 3 potholes, 14.1ms\n",
            "video 1/1 (341/692) /content/demo2.mp4: 384x640 2 potholes, 13.9ms\n",
            "video 1/1 (342/692) /content/demo2.mp4: 384x640 2 potholes, 14.7ms\n",
            "video 1/1 (343/692) /content/demo2.mp4: 384x640 4 potholes, 13.9ms\n",
            "video 1/1 (344/692) /content/demo2.mp4: 384x640 2 potholes, 13.9ms\n",
            "video 1/1 (345/692) /content/demo2.mp4: 384x640 3 potholes, 13.9ms\n",
            "video 1/1 (346/692) /content/demo2.mp4: 384x640 3 potholes, 13.9ms\n",
            "video 1/1 (347/692) /content/demo2.mp4: 384x640 2 potholes, 13.9ms\n",
            "video 1/1 (348/692) /content/demo2.mp4: 384x640 2 potholes, 14.0ms\n",
            "video 1/1 (349/692) /content/demo2.mp4: 384x640 2 potholes, 15.3ms\n",
            "video 1/1 (350/692) /content/demo2.mp4: 384x640 3 potholes, 14.3ms\n",
            "video 1/1 (351/692) /content/demo2.mp4: 384x640 2 potholes, 14.3ms\n",
            "video 1/1 (352/692) /content/demo2.mp4: 384x640 3 potholes, 14.0ms\n",
            "video 1/1 (353/692) /content/demo2.mp4: 384x640 4 potholes, 14.0ms\n",
            "video 1/1 (354/692) /content/demo2.mp4: 384x640 3 potholes, 14.6ms\n",
            "video 1/1 (355/692) /content/demo2.mp4: 384x640 3 potholes, 14.0ms\n",
            "video 1/1 (356/692) /content/demo2.mp4: 384x640 2 potholes, 14.0ms\n",
            "video 1/1 (357/692) /content/demo2.mp4: 384x640 3 potholes, 14.0ms\n",
            "video 1/1 (358/692) /content/demo2.mp4: 384x640 4 potholes, 14.0ms\n",
            "video 1/1 (359/692) /content/demo2.mp4: 384x640 3 potholes, 21.0ms\n",
            "video 1/1 (360/692) /content/demo2.mp4: 384x640 2 potholes, 14.4ms\n",
            "video 1/1 (361/692) /content/demo2.mp4: 384x640 2 potholes, 14.2ms\n",
            "video 1/1 (362/692) /content/demo2.mp4: 384x640 1 pothole, 14.2ms\n",
            "video 1/1 (363/692) /content/demo2.mp4: 384x640 1 pothole, 14.2ms\n",
            "video 1/1 (364/692) /content/demo2.mp4: 384x640 1 pothole, 14.6ms\n",
            "video 1/1 (365/692) /content/demo2.mp4: 384x640 1 pothole, 14.7ms\n",
            "video 1/1 (366/692) /content/demo2.mp4: 384x640 2 potholes, 14.4ms\n",
            "video 1/1 (367/692) /content/demo2.mp4: 384x640 2 potholes, 14.3ms\n",
            "video 1/1 (368/692) /content/demo2.mp4: 384x640 2 potholes, 15.1ms\n",
            "video 1/1 (369/692) /content/demo2.mp4: 384x640 2 potholes, 15.6ms\n",
            "video 1/1 (370/692) /content/demo2.mp4: 384x640 2 potholes, 14.3ms\n",
            "video 1/1 (371/692) /content/demo2.mp4: 384x640 2 potholes, 14.3ms\n",
            "video 1/1 (372/692) /content/demo2.mp4: 384x640 1 pothole, 14.3ms\n",
            "video 1/1 (373/692) /content/demo2.mp4: 384x640 1 pothole, 14.3ms\n",
            "video 1/1 (374/692) /content/demo2.mp4: 384x640 1 pothole, 14.2ms\n",
            "video 1/1 (375/692) /content/demo2.mp4: 384x640 1 pothole, 14.0ms\n",
            "video 1/1 (376/692) /content/demo2.mp4: 384x640 1 pothole, 14.0ms\n",
            "video 1/1 (377/692) /content/demo2.mp4: 384x640 14.0ms\n",
            "video 1/1 (378/692) /content/demo2.mp4: 384x640 13.8ms\n",
            "video 1/1 (379/692) /content/demo2.mp4: 384x640 13.7ms\n",
            "video 1/1 (380/692) /content/demo2.mp4: 384x640 13.7ms\n",
            "video 1/1 (381/692) /content/demo2.mp4: 384x640 13.7ms\n",
            "video 1/1 (382/692) /content/demo2.mp4: 384x640 11.8ms\n",
            "video 1/1 (383/692) /content/demo2.mp4: 384x640 11.7ms\n",
            "video 1/1 (384/692) /content/demo2.mp4: 384x640 11.8ms\n",
            "video 1/1 (385/692) /content/demo2.mp4: 384x640 12.3ms\n",
            "video 1/1 (386/692) /content/demo2.mp4: 384x640 11.6ms\n",
            "video 1/1 (387/692) /content/demo2.mp4: 384x640 11.6ms\n",
            "video 1/1 (388/692) /content/demo2.mp4: 384x640 11.6ms\n",
            "video 1/1 (389/692) /content/demo2.mp4: 384x640 11.6ms\n",
            "video 1/1 (390/692) /content/demo2.mp4: 384x640 11.2ms\n",
            "video 1/1 (391/692) /content/demo2.mp4: 384x640 11.1ms\n",
            "video 1/1 (392/692) /content/demo2.mp4: 384x640 12.3ms\n",
            "video 1/1 (393/692) /content/demo2.mp4: 384x640 11.5ms\n",
            "video 1/1 (394/692) /content/demo2.mp4: 384x640 1 pothole, 11.4ms\n",
            "video 1/1 (395/692) /content/demo2.mp4: 384x640 11.2ms\n",
            "video 1/1 (396/692) /content/demo2.mp4: 384x640 2 potholes, 11.1ms\n",
            "video 1/1 (397/692) /content/demo2.mp4: 384x640 11.2ms\n",
            "video 1/1 (398/692) /content/demo2.mp4: 384x640 11.3ms\n",
            "video 1/1 (399/692) /content/demo2.mp4: 384x640 11.2ms\n",
            "video 1/1 (400/692) /content/demo2.mp4: 384x640 11.1ms\n",
            "video 1/1 (401/692) /content/demo2.mp4: 384x640 11.1ms\n",
            "video 1/1 (402/692) /content/demo2.mp4: 384x640 11.1ms\n",
            "video 1/1 (403/692) /content/demo2.mp4: 384x640 1 pothole, 11.3ms\n",
            "video 1/1 (404/692) /content/demo2.mp4: 384x640 2 potholes, 11.8ms\n",
            "video 1/1 (405/692) /content/demo2.mp4: 384x640 1 pothole, 11.5ms\n",
            "video 1/1 (406/692) /content/demo2.mp4: 384x640 1 pothole, 11.3ms\n",
            "video 1/1 (407/692) /content/demo2.mp4: 384x640 1 pothole, 11.1ms\n",
            "video 1/1 (408/692) /content/demo2.mp4: 384x640 2 potholes, 11.3ms\n",
            "video 1/1 (409/692) /content/demo2.mp4: 384x640 2 potholes, 11.1ms\n",
            "video 1/1 (410/692) /content/demo2.mp4: 384x640 3 potholes, 11.1ms\n",
            "video 1/1 (411/692) /content/demo2.mp4: 384x640 2 potholes, 11.6ms\n",
            "video 1/1 (412/692) /content/demo2.mp4: 384x640 4 potholes, 11.3ms\n",
            "video 1/1 (413/692) /content/demo2.mp4: 384x640 4 potholes, 11.2ms\n",
            "video 1/1 (414/692) /content/demo2.mp4: 384x640 4 potholes, 11.1ms\n",
            "video 1/1 (415/692) /content/demo2.mp4: 384x640 4 potholes, 11.5ms\n",
            "video 1/1 (416/692) /content/demo2.mp4: 384x640 3 potholes, 11.2ms\n",
            "video 1/1 (417/692) /content/demo2.mp4: 384x640 3 potholes, 11.1ms\n",
            "video 1/1 (418/692) /content/demo2.mp4: 384x640 3 potholes, 11.5ms\n",
            "video 1/1 (419/692) /content/demo2.mp4: 384x640 4 potholes, 11.2ms\n",
            "video 1/1 (420/692) /content/demo2.mp4: 384x640 5 potholes, 11.1ms\n",
            "video 1/1 (421/692) /content/demo2.mp4: 384x640 5 potholes, 11.3ms\n",
            "video 1/1 (422/692) /content/demo2.mp4: 384x640 6 potholes, 11.3ms\n",
            "video 1/1 (423/692) /content/demo2.mp4: 384x640 5 potholes, 11.3ms\n",
            "video 1/1 (424/692) /content/demo2.mp4: 384x640 5 potholes, 12.9ms\n",
            "video 1/1 (425/692) /content/demo2.mp4: 384x640 4 potholes, 11.1ms\n",
            "video 1/1 (426/692) /content/demo2.mp4: 384x640 5 potholes, 11.1ms\n",
            "video 1/1 (427/692) /content/demo2.mp4: 384x640 3 potholes, 11.3ms\n",
            "video 1/1 (428/692) /content/demo2.mp4: 384x640 2 potholes, 11.1ms\n",
            "video 1/1 (429/692) /content/demo2.mp4: 384x640 4 potholes, 11.1ms\n",
            "video 1/1 (430/692) /content/demo2.mp4: 384x640 3 potholes, 11.5ms\n",
            "video 1/1 (431/692) /content/demo2.mp4: 384x640 1 pothole, 11.2ms\n",
            "video 1/1 (432/692) /content/demo2.mp4: 384x640 4 potholes, 12.3ms\n",
            "video 1/1 (433/692) /content/demo2.mp4: 384x640 4 potholes, 11.2ms\n",
            "video 1/1 (434/692) /content/demo2.mp4: 384x640 5 potholes, 11.1ms\n",
            "video 1/1 (435/692) /content/demo2.mp4: 384x640 4 potholes, 11.3ms\n",
            "video 1/1 (436/692) /content/demo2.mp4: 384x640 3 potholes, 11.1ms\n",
            "video 1/1 (437/692) /content/demo2.mp4: 384x640 1 pothole, 11.1ms\n",
            "video 1/1 (438/692) /content/demo2.mp4: 384x640 3 potholes, 11.1ms\n",
            "video 1/1 (439/692) /content/demo2.mp4: 384x640 3 potholes, 11.8ms\n",
            "video 1/1 (440/692) /content/demo2.mp4: 384x640 5 potholes, 11.3ms\n",
            "video 1/1 (441/692) /content/demo2.mp4: 384x640 2 potholes, 11.2ms\n",
            "video 1/1 (442/692) /content/demo2.mp4: 384x640 1 pothole, 11.3ms\n",
            "video 1/1 (443/692) /content/demo2.mp4: 384x640 2 potholes, 11.2ms\n",
            "video 1/1 (444/692) /content/demo2.mp4: 384x640 2 potholes, 11.1ms\n",
            "video 1/1 (445/692) /content/demo2.mp4: 384x640 2 potholes, 11.2ms\n",
            "video 1/1 (446/692) /content/demo2.mp4: 384x640 3 potholes, 11.4ms\n",
            "video 1/1 (447/692) /content/demo2.mp4: 384x640 1 pothole, 11.2ms\n",
            "video 1/1 (448/692) /content/demo2.mp4: 384x640 2 potholes, 11.1ms\n",
            "video 1/1 (449/692) /content/demo2.mp4: 384x640 1 pothole, 11.3ms\n",
            "video 1/1 (450/692) /content/demo2.mp4: 384x640 2 potholes, 11.2ms\n",
            "video 1/1 (451/692) /content/demo2.mp4: 384x640 3 potholes, 11.2ms\n",
            "video 1/1 (452/692) /content/demo2.mp4: 384x640 3 potholes, 11.1ms\n",
            "video 1/1 (453/692) /content/demo2.mp4: 384x640 3 potholes, 11.3ms\n",
            "video 1/1 (454/692) /content/demo2.mp4: 384x640 4 potholes, 11.1ms\n",
            "video 1/1 (455/692) /content/demo2.mp4: 384x640 4 potholes, 11.1ms\n",
            "video 1/1 (456/692) /content/demo2.mp4: 384x640 3 potholes, 11.7ms\n",
            "video 1/1 (457/692) /content/demo2.mp4: 384x640 4 potholes, 11.3ms\n",
            "video 1/1 (458/692) /content/demo2.mp4: 384x640 5 potholes, 11.2ms\n",
            "video 1/1 (459/692) /content/demo2.mp4: 384x640 3 potholes, 11.2ms\n",
            "video 1/1 (460/692) /content/demo2.mp4: 384x640 3 potholes, 11.1ms\n",
            "video 1/1 (461/692) /content/demo2.mp4: 384x640 3 potholes, 11.1ms\n",
            "video 1/1 (462/692) /content/demo2.mp4: 384x640 2 potholes, 11.5ms\n",
            "video 1/1 (463/692) /content/demo2.mp4: 384x640 4 potholes, 11.2ms\n",
            "video 1/1 (464/692) /content/demo2.mp4: 384x640 3 potholes, 11.1ms\n",
            "video 1/1 (465/692) /content/demo2.mp4: 384x640 2 potholes, 11.7ms\n",
            "video 1/1 (466/692) /content/demo2.mp4: 384x640 3 potholes, 11.3ms\n",
            "video 1/1 (467/692) /content/demo2.mp4: 384x640 2 potholes, 11.1ms\n",
            "video 1/1 (468/692) /content/demo2.mp4: 384x640 4 potholes, 11.3ms\n",
            "video 1/1 (469/692) /content/demo2.mp4: 384x640 4 potholes, 11.2ms\n",
            "video 1/1 (470/692) /content/demo2.mp4: 384x640 3 potholes, 13.4ms\n",
            "video 1/1 (471/692) /content/demo2.mp4: 384x640 2 potholes, 11.2ms\n",
            "video 1/1 (472/692) /content/demo2.mp4: 384x640 2 potholes, 11.1ms\n",
            "video 1/1 (473/692) /content/demo2.mp4: 384x640 2 potholes, 11.1ms\n",
            "video 1/1 (474/692) /content/demo2.mp4: 384x640 2 potholes, 11.1ms\n",
            "video 1/1 (475/692) /content/demo2.mp4: 384x640 1 pothole, 11.1ms\n",
            "video 1/1 (476/692) /content/demo2.mp4: 384x640 2 potholes, 11.1ms\n",
            "video 1/1 (477/692) /content/demo2.mp4: 384x640 1 pothole, 11.7ms\n",
            "video 1/1 (478/692) /content/demo2.mp4: 384x640 1 pothole, 11.2ms\n",
            "video 1/1 (479/692) /content/demo2.mp4: 384x640 1 pothole, 11.2ms\n",
            "video 1/1 (480/692) /content/demo2.mp4: 384x640 2 potholes, 11.1ms\n",
            "video 1/1 (481/692) /content/demo2.mp4: 384x640 1 pothole, 11.7ms\n",
            "video 1/1 (482/692) /content/demo2.mp4: 384x640 2 potholes, 11.2ms\n",
            "video 1/1 (483/692) /content/demo2.mp4: 384x640 1 pothole, 11.1ms\n",
            "video 1/1 (484/692) /content/demo2.mp4: 384x640 2 potholes, 11.6ms\n",
            "video 1/1 (485/692) /content/demo2.mp4: 384x640 2 potholes, 11.4ms\n",
            "video 1/1 (486/692) /content/demo2.mp4: 384x640 3 potholes, 11.2ms\n",
            "video 1/1 (487/692) /content/demo2.mp4: 384x640 1 pothole, 11.1ms\n",
            "video 1/1 (488/692) /content/demo2.mp4: 384x640 3 potholes, 11.3ms\n",
            "video 1/1 (489/692) /content/demo2.mp4: 384x640 3 potholes, 11.1ms\n",
            "video 1/1 (490/692) /content/demo2.mp4: 384x640 1 pothole, 11.1ms\n",
            "video 1/1 (491/692) /content/demo2.mp4: 384x640 2 potholes, 11.7ms\n",
            "video 1/1 (492/692) /content/demo2.mp4: 384x640 1 pothole, 11.3ms\n",
            "video 1/1 (493/692) /content/demo2.mp4: 384x640 1 pothole, 11.2ms\n",
            "video 1/1 (494/692) /content/demo2.mp4: 384x640 2 potholes, 11.7ms\n",
            "video 1/1 (495/692) /content/demo2.mp4: 384x640 11.3ms\n",
            "video 1/1 (496/692) /content/demo2.mp4: 384x640 11.2ms\n",
            "video 1/1 (497/692) /content/demo2.mp4: 384x640 11.1ms\n",
            "video 1/1 (498/692) /content/demo2.mp4: 384x640 11.3ms\n",
            "video 1/1 (499/692) /content/demo2.mp4: 384x640 11.8ms\n",
            "video 1/1 (500/692) /content/demo2.mp4: 384x640 11.7ms\n",
            "video 1/1 (501/692) /content/demo2.mp4: 384x640 11.3ms\n",
            "video 1/1 (502/692) /content/demo2.mp4: 384x640 11.1ms\n",
            "video 1/1 (503/692) /content/demo2.mp4: 384x640 11.1ms\n",
            "video 1/1 (504/692) /content/demo2.mp4: 384x640 11.5ms\n",
            "video 1/1 (505/692) /content/demo2.mp4: 384x640 11.8ms\n",
            "video 1/1 (506/692) /content/demo2.mp4: 384x640 11.5ms\n",
            "video 1/1 (507/692) /content/demo2.mp4: 384x640 1 pothole, 11.2ms\n",
            "video 1/1 (508/692) /content/demo2.mp4: 384x640 1 pothole, 11.1ms\n",
            "video 1/1 (509/692) /content/demo2.mp4: 384x640 1 pothole, 11.3ms\n",
            "video 1/1 (510/692) /content/demo2.mp4: 384x640 2 potholes, 11.5ms\n",
            "video 1/1 (511/692) /content/demo2.mp4: 384x640 1 pothole, 13.3ms\n",
            "video 1/1 (512/692) /content/demo2.mp4: 384x640 1 pothole, 11.4ms\n",
            "video 1/1 (513/692) /content/demo2.mp4: 384x640 11.2ms\n",
            "video 1/1 (514/692) /content/demo2.mp4: 384x640 2 potholes, 11.1ms\n",
            "video 1/1 (515/692) /content/demo2.mp4: 384x640 1 pothole, 11.3ms\n",
            "video 1/1 (516/692) /content/demo2.mp4: 384x640 2 potholes, 11.1ms\n",
            "video 1/1 (517/692) /content/demo2.mp4: 384x640 3 potholes, 11.1ms\n",
            "video 1/1 (518/692) /content/demo2.mp4: 384x640 2 potholes, 11.1ms\n",
            "video 1/1 (519/692) /content/demo2.mp4: 384x640 1 pothole, 11.5ms\n",
            "video 1/1 (520/692) /content/demo2.mp4: 384x640 1 pothole, 12.4ms\n",
            "video 1/1 (521/692) /content/demo2.mp4: 384x640 2 potholes, 11.1ms\n",
            "video 1/1 (522/692) /content/demo2.mp4: 384x640 11.3ms\n",
            "video 1/1 (523/692) /content/demo2.mp4: 384x640 11.3ms\n",
            "video 1/1 (524/692) /content/demo2.mp4: 384x640 11.2ms\n",
            "video 1/1 (525/692) /content/demo2.mp4: 384x640 11.4ms\n",
            "video 1/1 (526/692) /content/demo2.mp4: 384x640 12.6ms\n",
            "video 1/1 (527/692) /content/demo2.mp4: 384x640 11.5ms\n",
            "video 1/1 (528/692) /content/demo2.mp4: 384x640 11.2ms\n",
            "video 1/1 (529/692) /content/demo2.mp4: 384x640 11.1ms\n",
            "video 1/1 (530/692) /content/demo2.mp4: 384x640 11.1ms\n",
            "video 1/1 (531/692) /content/demo2.mp4: 384x640 12.5ms\n",
            "video 1/1 (532/692) /content/demo2.mp4: 384x640 12.0ms\n",
            "video 1/1 (533/692) /content/demo2.mp4: 384x640 11.7ms\n",
            "video 1/1 (534/692) /content/demo2.mp4: 384x640 11.3ms\n",
            "video 1/1 (535/692) /content/demo2.mp4: 384x640 11.1ms\n",
            "video 1/1 (536/692) /content/demo2.mp4: 384x640 11.1ms\n",
            "video 1/1 (537/692) /content/demo2.mp4: 384x640 11.6ms\n",
            "video 1/1 (538/692) /content/demo2.mp4: 384x640 12.0ms\n",
            "video 1/1 (539/692) /content/demo2.mp4: 384x640 11.5ms\n",
            "video 1/1 (540/692) /content/demo2.mp4: 384x640 12.8ms\n",
            "video 1/1 (541/692) /content/demo2.mp4: 384x640 11.3ms\n",
            "video 1/1 (542/692) /content/demo2.mp4: 384x640 11.1ms\n",
            "video 1/1 (543/692) /content/demo2.mp4: 384x640 11.4ms\n",
            "video 1/1 (544/692) /content/demo2.mp4: 384x640 11.6ms\n",
            "video 1/1 (545/692) /content/demo2.mp4: 384x640 11.3ms\n",
            "video 1/1 (546/692) /content/demo2.mp4: 384x640 11.1ms\n",
            "video 1/1 (547/692) /content/demo2.mp4: 384x640 11.1ms\n",
            "video 1/1 (548/692) /content/demo2.mp4: 384x640 11.2ms\n",
            "video 1/1 (549/692) /content/demo2.mp4: 384x640 11.9ms\n",
            "video 1/1 (550/692) /content/demo2.mp4: 384x640 11.5ms\n",
            "video 1/1 (551/692) /content/demo2.mp4: 384x640 11.6ms\n",
            "video 1/1 (552/692) /content/demo2.mp4: 384x640 12.7ms\n",
            "video 1/1 (553/692) /content/demo2.mp4: 384x640 11.2ms\n",
            "video 1/1 (554/692) /content/demo2.mp4: 384x640 11.2ms\n",
            "video 1/1 (555/692) /content/demo2.mp4: 384x640 11.1ms\n",
            "video 1/1 (556/692) /content/demo2.mp4: 384x640 11.1ms\n",
            "video 1/1 (557/692) /content/demo2.mp4: 384x640 11.2ms\n",
            "video 1/1 (558/692) /content/demo2.mp4: 384x640 11.4ms\n",
            "video 1/1 (559/692) /content/demo2.mp4: 384x640 12.1ms\n",
            "video 1/1 (560/692) /content/demo2.mp4: 384x640 11.9ms\n",
            "video 1/1 (561/692) /content/demo2.mp4: 384x640 11.2ms\n",
            "video 1/1 (562/692) /content/demo2.mp4: 384x640 11.1ms\n",
            "video 1/1 (563/692) /content/demo2.mp4: 384x640 11.5ms\n",
            "video 1/1 (564/692) /content/demo2.mp4: 384x640 12.1ms\n",
            "video 1/1 (565/692) /content/demo2.mp4: 384x640 11.8ms\n",
            "video 1/1 (566/692) /content/demo2.mp4: 384x640 11.4ms\n",
            "video 1/1 (567/692) /content/demo2.mp4: 384x640 11.2ms\n",
            "video 1/1 (568/692) /content/demo2.mp4: 384x640 11.2ms\n",
            "video 1/1 (569/692) /content/demo2.mp4: 384x640 11.5ms\n",
            "video 1/1 (570/692) /content/demo2.mp4: 384x640 11.5ms\n",
            "video 1/1 (571/692) /content/demo2.mp4: 384x640 11.4ms\n",
            "video 1/1 (572/692) /content/demo2.mp4: 384x640 1 pothole, 11.2ms\n",
            "video 1/1 (573/692) /content/demo2.mp4: 384x640 11.1ms\n",
            "video 1/1 (574/692) /content/demo2.mp4: 384x640 11.3ms\n",
            "video 1/1 (575/692) /content/demo2.mp4: 384x640 11.8ms\n",
            "video 1/1 (576/692) /content/demo2.mp4: 384x640 11.6ms\n",
            "video 1/1 (577/692) /content/demo2.mp4: 384x640 11.2ms\n",
            "video 1/1 (578/692) /content/demo2.mp4: 384x640 1 pothole, 11.1ms\n",
            "video 1/1 (579/692) /content/demo2.mp4: 384x640 1 pothole, 12.2ms\n",
            "video 1/1 (580/692) /content/demo2.mp4: 384x640 1 pothole, 11.3ms\n",
            "video 1/1 (581/692) /content/demo2.mp4: 384x640 1 pothole, 12.1ms\n",
            "video 1/1 (582/692) /content/demo2.mp4: 384x640 1 pothole, 11.1ms\n",
            "video 1/1 (583/692) /content/demo2.mp4: 384x640 1 pothole, 11.5ms\n",
            "video 1/1 (584/692) /content/demo2.mp4: 384x640 1 pothole, 11.4ms\n",
            "video 1/1 (585/692) /content/demo2.mp4: 384x640 1 pothole, 11.2ms\n",
            "video 1/1 (586/692) /content/demo2.mp4: 384x640 1 pothole, 11.1ms\n",
            "video 1/1 (587/692) /content/demo2.mp4: 384x640 1 pothole, 11.3ms\n",
            "video 1/1 (588/692) /content/demo2.mp4: 384x640 1 pothole, 11.4ms\n",
            "video 1/1 (589/692) /content/demo2.mp4: 384x640 1 pothole, 11.2ms\n",
            "video 1/1 (590/692) /content/demo2.mp4: 384x640 1 pothole, 11.1ms\n",
            "video 1/1 (591/692) /content/demo2.mp4: 384x640 1 pothole, 11.2ms\n",
            "video 1/1 (592/692) /content/demo2.mp4: 384x640 1 pothole, 11.8ms\n",
            "video 1/1 (593/692) /content/demo2.mp4: 384x640 1 pothole, 11.3ms\n",
            "video 1/1 (594/692) /content/demo2.mp4: 384x640 1 pothole, 11.2ms\n",
            "video 1/1 (595/692) /content/demo2.mp4: 384x640 2 potholes, 11.1ms\n",
            "video 1/1 (596/692) /content/demo2.mp4: 384x640 2 potholes, 11.2ms\n",
            "video 1/1 (597/692) /content/demo2.mp4: 384x640 1 pothole, 11.6ms\n",
            "video 1/1 (598/692) /content/demo2.mp4: 384x640 2 potholes, 11.3ms\n",
            "video 1/1 (599/692) /content/demo2.mp4: 384x640 2 potholes, 11.2ms\n",
            "video 1/1 (600/692) /content/demo2.mp4: 384x640 2 potholes, 11.1ms\n",
            "video 1/1 (601/692) /content/demo2.mp4: 384x640 1 pothole, 11.8ms\n",
            "video 1/1 (602/692) /content/demo2.mp4: 384x640 2 potholes, 11.4ms\n",
            "video 1/1 (603/692) /content/demo2.mp4: 384x640 3 potholes, 11.2ms\n",
            "video 1/1 (604/692) /content/demo2.mp4: 384x640 3 potholes, 11.4ms\n",
            "video 1/1 (605/692) /content/demo2.mp4: 384x640 3 potholes, 11.3ms\n",
            "video 1/1 (606/692) /content/demo2.mp4: 384x640 2 potholes, 11.8ms\n",
            "video 1/1 (607/692) /content/demo2.mp4: 384x640 2 potholes, 12.3ms\n",
            "video 1/1 (608/692) /content/demo2.mp4: 384x640 2 potholes, 14.2ms\n",
            "video 1/1 (609/692) /content/demo2.mp4: 384x640 3 potholes, 11.0ms\n",
            "video 1/1 (610/692) /content/demo2.mp4: 384x640 2 potholes, 11.0ms\n",
            "video 1/1 (611/692) /content/demo2.mp4: 384x640 2 potholes, 11.4ms\n",
            "video 1/1 (612/692) /content/demo2.mp4: 384x640 2 potholes, 11.2ms\n",
            "video 1/1 (613/692) /content/demo2.mp4: 384x640 2 potholes, 11.1ms\n",
            "video 1/1 (614/692) /content/demo2.mp4: 384x640 2 potholes, 11.7ms\n",
            "video 1/1 (615/692) /content/demo2.mp4: 384x640 2 potholes, 11.5ms\n",
            "video 1/1 (616/692) /content/demo2.mp4: 384x640 2 potholes, 11.2ms\n",
            "video 1/1 (617/692) /content/demo2.mp4: 384x640 2 potholes, 11.1ms\n",
            "video 1/1 (618/692) /content/demo2.mp4: 384x640 2 potholes, 11.9ms\n",
            "video 1/1 (619/692) /content/demo2.mp4: 384x640 2 potholes, 11.3ms\n",
            "video 1/1 (620/692) /content/demo2.mp4: 384x640 2 potholes, 11.2ms\n",
            "video 1/1 (621/692) /content/demo2.mp4: 384x640 2 potholes, 11.8ms\n",
            "video 1/1 (622/692) /content/demo2.mp4: 384x640 2 potholes, 11.4ms\n",
            "video 1/1 (623/692) /content/demo2.mp4: 384x640 2 potholes, 11.2ms\n",
            "video 1/1 (624/692) /content/demo2.mp4: 384x640 1 pothole, 11.5ms\n",
            "video 1/1 (625/692) /content/demo2.mp4: 384x640 1 pothole, 11.6ms\n",
            "video 1/1 (626/692) /content/demo2.mp4: 384x640 1 pothole, 11.2ms\n",
            "video 1/1 (627/692) /content/demo2.mp4: 384x640 1 pothole, 11.1ms\n",
            "video 1/1 (628/692) /content/demo2.mp4: 384x640 2 potholes, 11.6ms\n",
            "video 1/1 (629/692) /content/demo2.mp4: 384x640 1 pothole, 11.4ms\n",
            "video 1/1 (630/692) /content/demo2.mp4: 384x640 1 pothole, 11.2ms\n",
            "video 1/1 (631/692) /content/demo2.mp4: 384x640 1 pothole, 11.5ms\n",
            "video 1/1 (632/692) /content/demo2.mp4: 384x640 1 pothole, 12.5ms\n",
            "video 1/1 (633/692) /content/demo2.mp4: 384x640 2 potholes, 11.2ms\n",
            "video 1/1 (634/692) /content/demo2.mp4: 384x640 1 pothole, 11.3ms\n",
            "video 1/1 (635/692) /content/demo2.mp4: 384x640 1 pothole, 11.2ms\n",
            "video 1/1 (636/692) /content/demo2.mp4: 384x640 1 pothole, 11.1ms\n",
            "video 1/1 (637/692) /content/demo2.mp4: 384x640 1 pothole, 11.4ms\n",
            "video 1/1 (638/692) /content/demo2.mp4: 384x640 1 pothole, 11.4ms\n",
            "video 1/1 (639/692) /content/demo2.mp4: 384x640 1 pothole, 12.4ms\n",
            "video 1/1 (640/692) /content/demo2.mp4: 384x640 1 pothole, 11.1ms\n",
            "video 1/1 (641/692) /content/demo2.mp4: 384x640 1 pothole, 11.7ms\n",
            "video 1/1 (642/692) /content/demo2.mp4: 384x640 11.4ms\n",
            "video 1/1 (643/692) /content/demo2.mp4: 384x640 1 pothole, 11.2ms\n",
            "video 1/1 (644/692) /content/demo2.mp4: 384x640 1 pothole, 11.1ms\n",
            "video 1/1 (645/692) /content/demo2.mp4: 384x640 1 pothole, 11.8ms\n",
            "video 1/1 (646/692) /content/demo2.mp4: 384x640 1 pothole, 11.4ms\n",
            "video 1/1 (647/692) /content/demo2.mp4: 384x640 11.2ms\n",
            "video 1/1 (648/692) /content/demo2.mp4: 384x640 11.1ms\n",
            "video 1/1 (649/692) /content/demo2.mp4: 384x640 11.5ms\n",
            "video 1/1 (650/692) /content/demo2.mp4: 384x640 11.6ms\n",
            "video 1/1 (651/692) /content/demo2.mp4: 384x640 1 pothole, 11.2ms\n",
            "video 1/1 (652/692) /content/demo2.mp4: 384x640 1 pothole, 11.1ms\n",
            "video 1/1 (653/692) /content/demo2.mp4: 384x640 1 pothole, 12.7ms\n",
            "video 1/1 (654/692) /content/demo2.mp4: 384x640 1 pothole, 11.3ms\n",
            "video 1/1 (655/692) /content/demo2.mp4: 384x640 1 pothole, 11.1ms\n",
            "video 1/1 (656/692) /content/demo2.mp4: 384x640 1 pothole, 11.2ms\n",
            "video 1/1 (657/692) /content/demo2.mp4: 384x640 1 pothole, 14.6ms\n",
            "video 1/1 (658/692) /content/demo2.mp4: 384x640 1 pothole, 11.2ms\n",
            "video 1/1 (659/692) /content/demo2.mp4: 384x640 1 pothole, 11.2ms\n",
            "video 1/1 (660/692) /content/demo2.mp4: 384x640 1 pothole, 11.1ms\n",
            "video 1/1 (661/692) /content/demo2.mp4: 384x640 1 pothole, 11.1ms\n",
            "video 1/1 (662/692) /content/demo2.mp4: 384x640 1 pothole, 11.6ms\n",
            "video 1/1 (663/692) /content/demo2.mp4: 384x640 2 potholes, 11.2ms\n",
            "video 1/1 (664/692) /content/demo2.mp4: 384x640 2 potholes, 11.1ms\n",
            "video 1/1 (665/692) /content/demo2.mp4: 384x640 1 pothole, 11.3ms\n",
            "video 1/1 (666/692) /content/demo2.mp4: 384x640 1 pothole, 11.5ms\n",
            "video 1/1 (667/692) /content/demo2.mp4: 384x640 1 pothole, 11.2ms\n",
            "video 1/1 (668/692) /content/demo2.mp4: 384x640 1 pothole, 11.1ms\n",
            "video 1/1 (669/692) /content/demo2.mp4: 384x640 1 pothole, 11.3ms\n",
            "video 1/1 (670/692) /content/demo2.mp4: 384x640 1 pothole, 11.3ms\n",
            "video 1/1 (671/692) /content/demo2.mp4: 384x640 1 pothole, 12.4ms\n",
            "video 1/1 (672/692) /content/demo2.mp4: 384x640 1 pothole, 11.9ms\n",
            "video 1/1 (673/692) /content/demo2.mp4: 384x640 1 pothole, 11.3ms\n",
            "video 1/1 (674/692) /content/demo2.mp4: 384x640 1 pothole, 11.2ms\n",
            "video 1/1 (675/692) /content/demo2.mp4: 384x640 1 pothole, 11.1ms\n",
            "video 1/1 (676/692) /content/demo2.mp4: 384x640 1 pothole, 11.8ms\n",
            "video 1/1 (677/692) /content/demo2.mp4: 384x640 1 pothole, 11.5ms\n",
            "video 1/1 (678/692) /content/demo2.mp4: 384x640 1 pothole, 13.8ms\n",
            "video 1/1 (679/692) /content/demo2.mp4: 384x640 1 pothole, 11.4ms\n",
            "video 1/1 (680/692) /content/demo2.mp4: 384x640 1 pothole, 11.2ms\n",
            "video 1/1 (681/692) /content/demo2.mp4: 384x640 1 pothole, 11.5ms\n",
            "video 1/1 (682/692) /content/demo2.mp4: 384x640 1 pothole, 11.7ms\n",
            "video 1/1 (683/692) /content/demo2.mp4: 384x640 1 pothole, 11.3ms\n",
            "video 1/1 (684/692) /content/demo2.mp4: 384x640 1 pothole, 11.1ms\n",
            "video 1/1 (685/692) /content/demo2.mp4: 384x640 1 pothole, 11.7ms\n",
            "video 1/1 (686/692) /content/demo2.mp4: 384x640 1 pothole, 11.3ms\n",
            "video 1/1 (687/692) /content/demo2.mp4: 384x640 11.1ms\n",
            "video 1/1 (688/692) /content/demo2.mp4: 384x640 11.5ms\n",
            "video 1/1 (689/692) /content/demo2.mp4: 384x640 11.8ms\n",
            "video 1/1 (690/692) /content/demo2.mp4: 384x640 11.5ms\n",
            "video 1/1 (691/692) /content/demo2.mp4: 384x640 11.2ms\n",
            "video 1/1 (692/692) /content/demo2.mp4: 384x640 11.1ms\n",
            "Speed: 0.5ms pre-process, 12.4ms inference, 3.0ms postprocess per image at shape (1, 3, 640, 640)\n",
            "Results saved to \u001b[1mruns/detect/predict3\u001b[0m\n"
          ]
        }
      ],
      "source": [
        "%cd {HOME}\n",
        "!yolo task=detect mode=predict model={HOME}/runs/detect/train2/weights/best.pt conf=0.25 source='/content/demo2.mp4'"
      ]
    },
    {
      "cell_type": "markdown",
      "metadata": {
        "id": "4XznJ0br0a0U"
      },
      "source": [
        "#**Display the Demo Video**"
      ]
    },
    {
      "cell_type": "code",
      "execution_count": null,
      "metadata": {
        "colab": {
          "base_uri": "https://localhost:8080/"
        },
        "id": "hVkPlwBN0cGf",
        "outputId": "48740ca8-c1a5-43dc-cf39-edf67e5ef9fa"
      },
      "outputs": [
        {
          "name": "stdout",
          "output_type": "stream",
          "text": [
            "rm: cannot remove '/content/result_compressed.mp4': No such file or directory\n"
          ]
        }
      ],
      "source": [
        "!rm \"/content/result_compressed2.mp4\""
      ]
    },
    {
      "cell_type": "code",
      "execution_count": null,
      "metadata": {
        "colab": {
          "background_save": true
        },
        "id": "hQhxfibsvbDJ",
        "outputId": "499d465b-cbdb-4f66-bf88-976c06c894fd"
      },
      "outputs": [],
      "source": [
        "from IPython.display import HTML\n",
        "from base64 import b64encode\n",
        "import os\n",
        "\n",
        "# Input video path\n",
        "save_path = '/content/runs/detect/predict3/demo2.mp4'\n",
        "\n",
        "# Compressed video path\n",
        "compressed_path = \"/content/result_compressed2.mp4\"\n",
        "\n",
        "os.system(f\"ffmpeg -i {save_path} -vcodec libx264 {compressed_path}\")\n",
        "\n",
        "# Show video\n",
        "mp4 = open(compressed_path,'rb').read()\n",
        "data_url = \"data:video/mp4;base64,\" + b64encode(mp4).decode()\n",
        "HTML(\"\"\"\n",
        "<video width=400 controls>\n",
        "      <source src=\"%s\" type=\"video/mp4\">\n",
        "</video>\n",
        "\"\"\" % data_url)"
      ]
    },
    {
      "cell_type": "code",
      "execution_count": null,
      "metadata": {
        "colab": {
          "base_uri": "https://localhost:8080/"
        },
        "id": "dWQ_-eM5C_6K",
        "outputId": "522c3e10-b1e5-4758-947f-e9c8e43029e6",
        "collapsed": true
      },
      "outputs": [
        {
          "name": "stdout",
          "output_type": "stream",
          "text": [
            "Error: Input video not found at /content/runs/detect/predict2/demo2.mp4\n"
          ]
        }
      ],
      "source": [
        "from IPython.display import HTML\n",
        "from base64 import b64encode\n",
        "import os\n",
        "\n",
        "# Input video path\n",
        "save_path = '/content/runs/detect/predict2/demo2.mp4'\n",
        "\n",
        "# Compressed video path\n",
        "compressed_path = \"/content/result_compressed.mp4\"\n",
        "\n",
        "# Check if input video exists\n",
        "if not os.path.exists(save_path):\n",
        "    print(f\"Error: Input video not found at {save_path}\")\n",
        "else:\n",
        "    # Execute ffmpeg command and check for errors\n",
        "    result = os.system(f\"ffmpeg -i {save_path} -vcodec libx264 {compressed_path}\")\n",
        "    if result != 0:\n",
        "        print(\"Error: ffmpeg command failed.\")\n",
        "    else:\n",
        "        # Show video\n",
        "        mp4 = open(compressed_path,'rb').read()\n",
        "        data_url = \"data:video/mp4;base64,\" + b64encode(mp4).decode()\n",
        "        HTML(\"\"\"\n",
        "        <video width=400 controls>\n",
        "              <source src=\"%s\" type=\"video/mp4\">\n",
        "        </video>\n",
        "        \"\"\" % data_url)"
      ]
    },
    {
      "cell_type": "code",
      "execution_count": null,
      "metadata": {
        "id": "s9KT7rp7vb6l"
      },
      "outputs": [],
      "source": []
    }
  ],
  "metadata": {
    "colab": {
      "provenance": [],
      "mount_file_id": "1lHsfHTRKAkmL0QHik1jb5kv1JEnmnT4q",
      "authorship_tag": "ABX9TyPo+tUM9r3ht+GtnSY89GI9",
      "include_colab_link": true
    },
    "kernelspec": {
      "display_name": "Python 3",
      "name": "python3"
    },
    "language_info": {
      "name": "python"
    }
  },
  "nbformat": 4,
  "nbformat_minor": 0
}